{
 "cells": [
  {
   "cell_type": "markdown",
   "metadata": {},
   "source": [
    "# Energy Transitions Python Tutorial"
   ]
  },
  {
   "cell_type": "markdown",
   "metadata": {},
   "source": [
    "Using Python, create a plot of primary energy consumption over time from 1635 to 2017."
   ]
  },
  {
   "cell_type": "markdown",
   "metadata": {},
   "source": [
    "## Import libraries"
   ]
  },
  {
   "cell_type": "markdown",
   "metadata": {},
   "source": [
    "There are certain libraries that you're going to need to complete this assignment. I'm going to be giving brief, big-picture summaries."
   ]
  },
  {
   "cell_type": "markdown",
   "metadata": {},
   "source": [
    "### pandas"
   ]
  },
  {
   "cell_type": "markdown",
   "metadata": {},
   "source": [
    "*pandas* is a library that lets you use conduct analyses on dataframes (instead of just regular vectors/arrays in python). \n",
    "\n",
    "The \"as pd\" in the next line means from this point onward, when we want to call a function in the pandas library, we can just use \"pd\" for short."
   ]
  },
  {
   "cell_type": "code",
   "execution_count": 1,
   "metadata": {},
   "outputs": [],
   "source": [
    "import pandas as pd"
   ]
  },
  {
   "cell_type": "code",
   "execution_count": null,
   "metadata": {},
   "outputs": [],
   "source": [
    "# import pandas as pd\n",
    "# import numpy as np\n",
    "# import matplotlib\n",
    "# import matplotlib.pyplot as plt\n",
    "# import seaborn as sns; sns.set()"
   ]
  },
  {
   "cell_type": "markdown",
   "metadata": {},
   "source": [
    "## Read in CSV file as a dataframe"
   ]
  },
  {
   "cell_type": "markdown",
   "metadata": {},
   "source": [
    "Reading in CSV files is easy thanks to pandas' ``read_csv`` function, which imports CSV files as dataframes.\n",
    "\n",
    "Our CSV file is kept in a subfolder named \"data\", so we have to reference that folder when calling on the CSV file.\n",
    "\n",
    "If you take a look at the CSV file, you'll notice that the first row contains a URL, and the second row is a summary of the data table. We can tell ``read_csv`` to skip the first two rows, so that the function will start creating a dataframe from the third row and onward.\n",
    "\n",
    "You can give your dataframe any name you would like (as long it doesn't contain any spaces, periods, or special characters (except for an underscore). I'm going to name the dataframe ``df_data``."
   ]
  },
  {
   "cell_type": "code",
   "execution_count": 4,
   "metadata": {},
   "outputs": [],
   "source": [
    "df_data = pd.read_csv('data/Primary Energy Consumption_from 1635.csv', skiprows = 2)"
   ]
  },
  {
   "cell_type": "markdown",
   "metadata": {},
   "source": [
    "Now that you have a dataframe, you can view the first 5 rows using the ``head()`` function."
   ]
  },
  {
   "cell_type": "code",
   "execution_count": 5,
   "metadata": {},
   "outputs": [
    {
     "data": {
      "text/html": [
       "<div>\n",
       "<style scoped>\n",
       "    .dataframe tbody tr th:only-of-type {\n",
       "        vertical-align: middle;\n",
       "    }\n",
       "\n",
       "    .dataframe tbody tr th {\n",
       "        vertical-align: top;\n",
       "    }\n",
       "\n",
       "    .dataframe thead th {\n",
       "        text-align: right;\n",
       "    }\n",
       "</style>\n",
       "<table border=\"1\" class=\"dataframe\">\n",
       "  <thead>\n",
       "    <tr style=\"text-align: right;\">\n",
       "      <th></th>\n",
       "      <th>Unnamed: 0</th>\n",
       "      <th>Coal</th>\n",
       "      <th>Natural Gas</th>\n",
       "      <th>Petroleum</th>\n",
       "      <th>Total Fossil</th>\n",
       "      <th>Nuclear</th>\n",
       "      <th>Hydropower</th>\n",
       "      <th>Wood/biomass</th>\n",
       "      <th>Solar</th>\n",
       "      <th>Wind</th>\n",
       "      <th>Total Renewable Energy</th>\n",
       "    </tr>\n",
       "  </thead>\n",
       "  <tbody>\n",
       "    <tr>\n",
       "      <th>0</th>\n",
       "      <td>1635</td>\n",
       "      <td>0.0</td>\n",
       "      <td>NaN</td>\n",
       "      <td>NaN</td>\n",
       "      <td>0.0</td>\n",
       "      <td>NaN</td>\n",
       "      <td>NaN</td>\n",
       "      <td>NaN</td>\n",
       "      <td>NaN</td>\n",
       "      <td>NaN</td>\n",
       "      <td>0.000</td>\n",
       "    </tr>\n",
       "    <tr>\n",
       "      <th>1</th>\n",
       "      <td>1645</td>\n",
       "      <td>NaN</td>\n",
       "      <td>NaN</td>\n",
       "      <td>NaN</td>\n",
       "      <td>0.0</td>\n",
       "      <td>NaN</td>\n",
       "      <td>NaN</td>\n",
       "      <td>0.001</td>\n",
       "      <td>NaN</td>\n",
       "      <td>NaN</td>\n",
       "      <td>0.001</td>\n",
       "    </tr>\n",
       "    <tr>\n",
       "      <th>2</th>\n",
       "      <td>1655</td>\n",
       "      <td>NaN</td>\n",
       "      <td>NaN</td>\n",
       "      <td>NaN</td>\n",
       "      <td>0.0</td>\n",
       "      <td>NaN</td>\n",
       "      <td>NaN</td>\n",
       "      <td>0.002</td>\n",
       "      <td>NaN</td>\n",
       "      <td>NaN</td>\n",
       "      <td>0.002</td>\n",
       "    </tr>\n",
       "    <tr>\n",
       "      <th>3</th>\n",
       "      <td>1665</td>\n",
       "      <td>NaN</td>\n",
       "      <td>NaN</td>\n",
       "      <td>NaN</td>\n",
       "      <td>0.0</td>\n",
       "      <td>NaN</td>\n",
       "      <td>NaN</td>\n",
       "      <td>0.005</td>\n",
       "      <td>NaN</td>\n",
       "      <td>NaN</td>\n",
       "      <td>0.005</td>\n",
       "    </tr>\n",
       "    <tr>\n",
       "      <th>4</th>\n",
       "      <td>1675</td>\n",
       "      <td>NaN</td>\n",
       "      <td>NaN</td>\n",
       "      <td>NaN</td>\n",
       "      <td>0.0</td>\n",
       "      <td>NaN</td>\n",
       "      <td>NaN</td>\n",
       "      <td>0.007</td>\n",
       "      <td>NaN</td>\n",
       "      <td>NaN</td>\n",
       "      <td>0.007</td>\n",
       "    </tr>\n",
       "  </tbody>\n",
       "</table>\n",
       "</div>"
      ],
      "text/plain": [
       "   Unnamed: 0  Coal  Natural Gas  Petroleum  Total Fossil  Nuclear  \\\n",
       "0        1635   0.0          NaN        NaN           0.0      NaN   \n",
       "1        1645   NaN          NaN        NaN           0.0      NaN   \n",
       "2        1655   NaN          NaN        NaN           0.0      NaN   \n",
       "3        1665   NaN          NaN        NaN           0.0      NaN   \n",
       "4        1675   NaN          NaN        NaN           0.0      NaN   \n",
       "\n",
       "   Hydropower  Wood/biomass  Solar  Wind  Total Renewable Energy  \n",
       "0         NaN           NaN    NaN   NaN                   0.000  \n",
       "1         NaN         0.001    NaN   NaN                   0.001  \n",
       "2         NaN         0.002    NaN   NaN                   0.002  \n",
       "3         NaN         0.005    NaN   NaN                   0.005  \n",
       "4         NaN         0.007    NaN   NaN                   0.007  "
      ]
     },
     "execution_count": 5,
     "metadata": {},
     "output_type": "execute_result"
    }
   ],
   "source": [
    "df_data.head()"
   ]
  },
  {
   "cell_type": "markdown",
   "metadata": {},
   "source": [
    "To gain general information on the dataframe, use ``info()``."
   ]
  },
  {
   "cell_type": "code",
   "execution_count": 6,
   "metadata": {},
   "outputs": [
    {
     "name": "stdout",
     "output_type": "stream",
     "text": [
      "<class 'pandas.core.frame.DataFrame'>\n",
      "RangeIndex: 112 entries, 0 to 111\n",
      "Data columns (total 11 columns):\n",
      "Unnamed: 0                112 non-null int64\n",
      "Coal                      91 non-null float64\n",
      "Natural Gas               83 non-null float64\n",
      "Petroleum                 88 non-null float64\n",
      "Total Fossil              112 non-null float64\n",
      "Nuclear                   62 non-null float64\n",
      "Hydropower                82 non-null float64\n",
      "Wood/biomass              111 non-null float64\n",
      "Solar                     35 non-null float64\n",
      "Wind                      36 non-null float64\n",
      "Total Renewable Energy    112 non-null float64\n",
      "dtypes: float64(10), int64(1)\n",
      "memory usage: 9.7 KB\n"
     ]
    }
   ],
   "source": [
    "df_data.info()"
   ]
  },
  {
   "cell_type": "markdown",
   "metadata": {},
   "source": [
    "From the information above, we can see there are 112 rows (entries), and each column is a fuel type. The first column, which should be the year, is missing a column name (since the cell is empty in the CSV file). We can rename the column in the dataframe, without having to edit the CSV file."
   ]
  },
  {
   "cell_type": "markdown",
   "metadata": {},
   "source": [
    "### Rename column"
   ]
  },
  {
   "cell_type": "markdown",
   "metadata": {},
   "source": [
    "To rename a column, use the ``rename`` function, and specify that we're trying to rename columns. If the column you want to rename already has an existing name, you can specify the original column name. However, in our case, the column itself is *unnamed*. Thus, we're going to use a number index to specify the column. In Python, the index number starts at **zero** (instead of 1). So, the first column in the CSV file corresponds to the 0 indexed column. We can specify that column index and choose to rename it to \"Year\"."
   ]
  },
  {
   "cell_type": "code",
   "execution_count": 7,
   "metadata": {},
   "outputs": [],
   "source": [
    "df_data = df_data.rename(columns = { df_data.columns[0]: \"Year\" })"
   ]
  },
  {
   "cell_type": "markdown",
   "metadata": {},
   "source": [
    "Let's take a look at the head of the dataframe again:"
   ]
  },
  {
   "cell_type": "code",
   "execution_count": 8,
   "metadata": {},
   "outputs": [
    {
     "data": {
      "text/html": [
       "<div>\n",
       "<style scoped>\n",
       "    .dataframe tbody tr th:only-of-type {\n",
       "        vertical-align: middle;\n",
       "    }\n",
       "\n",
       "    .dataframe tbody tr th {\n",
       "        vertical-align: top;\n",
       "    }\n",
       "\n",
       "    .dataframe thead th {\n",
       "        text-align: right;\n",
       "    }\n",
       "</style>\n",
       "<table border=\"1\" class=\"dataframe\">\n",
       "  <thead>\n",
       "    <tr style=\"text-align: right;\">\n",
       "      <th></th>\n",
       "      <th>Year</th>\n",
       "      <th>Coal</th>\n",
       "      <th>Natural Gas</th>\n",
       "      <th>Petroleum</th>\n",
       "      <th>Total Fossil</th>\n",
       "      <th>Nuclear</th>\n",
       "      <th>Hydropower</th>\n",
       "      <th>Wood/biomass</th>\n",
       "      <th>Solar</th>\n",
       "      <th>Wind</th>\n",
       "      <th>Total Renewable Energy</th>\n",
       "    </tr>\n",
       "  </thead>\n",
       "  <tbody>\n",
       "    <tr>\n",
       "      <th>0</th>\n",
       "      <td>1635</td>\n",
       "      <td>0.0</td>\n",
       "      <td>NaN</td>\n",
       "      <td>NaN</td>\n",
       "      <td>0.0</td>\n",
       "      <td>NaN</td>\n",
       "      <td>NaN</td>\n",
       "      <td>NaN</td>\n",
       "      <td>NaN</td>\n",
       "      <td>NaN</td>\n",
       "      <td>0.000</td>\n",
       "    </tr>\n",
       "    <tr>\n",
       "      <th>1</th>\n",
       "      <td>1645</td>\n",
       "      <td>NaN</td>\n",
       "      <td>NaN</td>\n",
       "      <td>NaN</td>\n",
       "      <td>0.0</td>\n",
       "      <td>NaN</td>\n",
       "      <td>NaN</td>\n",
       "      <td>0.001</td>\n",
       "      <td>NaN</td>\n",
       "      <td>NaN</td>\n",
       "      <td>0.001</td>\n",
       "    </tr>\n",
       "    <tr>\n",
       "      <th>2</th>\n",
       "      <td>1655</td>\n",
       "      <td>NaN</td>\n",
       "      <td>NaN</td>\n",
       "      <td>NaN</td>\n",
       "      <td>0.0</td>\n",
       "      <td>NaN</td>\n",
       "      <td>NaN</td>\n",
       "      <td>0.002</td>\n",
       "      <td>NaN</td>\n",
       "      <td>NaN</td>\n",
       "      <td>0.002</td>\n",
       "    </tr>\n",
       "    <tr>\n",
       "      <th>3</th>\n",
       "      <td>1665</td>\n",
       "      <td>NaN</td>\n",
       "      <td>NaN</td>\n",
       "      <td>NaN</td>\n",
       "      <td>0.0</td>\n",
       "      <td>NaN</td>\n",
       "      <td>NaN</td>\n",
       "      <td>0.005</td>\n",
       "      <td>NaN</td>\n",
       "      <td>NaN</td>\n",
       "      <td>0.005</td>\n",
       "    </tr>\n",
       "    <tr>\n",
       "      <th>4</th>\n",
       "      <td>1675</td>\n",
       "      <td>NaN</td>\n",
       "      <td>NaN</td>\n",
       "      <td>NaN</td>\n",
       "      <td>0.0</td>\n",
       "      <td>NaN</td>\n",
       "      <td>NaN</td>\n",
       "      <td>0.007</td>\n",
       "      <td>NaN</td>\n",
       "      <td>NaN</td>\n",
       "      <td>0.007</td>\n",
       "    </tr>\n",
       "  </tbody>\n",
       "</table>\n",
       "</div>"
      ],
      "text/plain": [
       "   Year  Coal  Natural Gas  Petroleum  Total Fossil  Nuclear  Hydropower  \\\n",
       "0  1635   0.0          NaN        NaN           0.0      NaN         NaN   \n",
       "1  1645   NaN          NaN        NaN           0.0      NaN         NaN   \n",
       "2  1655   NaN          NaN        NaN           0.0      NaN         NaN   \n",
       "3  1665   NaN          NaN        NaN           0.0      NaN         NaN   \n",
       "4  1675   NaN          NaN        NaN           0.0      NaN         NaN   \n",
       "\n",
       "   Wood/biomass  Solar  Wind  Total Renewable Energy  \n",
       "0           NaN    NaN   NaN                   0.000  \n",
       "1         0.001    NaN   NaN                   0.001  \n",
       "2         0.002    NaN   NaN                   0.002  \n",
       "3         0.005    NaN   NaN                   0.005  \n",
       "4         0.007    NaN   NaN                   0.007  "
      ]
     },
     "execution_count": 8,
     "metadata": {},
     "output_type": "execute_result"
    }
   ],
   "source": [
    "df_data.head()"
   ]
  },
  {
   "cell_type": "markdown",
   "metadata": {},
   "source": [
    "## Fill NAs"
   ]
  },
  {
   "cell_type": "markdown",
   "metadata": {},
   "source": [
    "We can see from the dataframe that there are a lot of empty values, especially in the earlier years. Pandas has converted the empty cells in the CSV to NaN (null) values.\n",
    "\n",
    "For our plot, we need to replace the NA values. In our case, we're going to replace all incidences of NaN with zero (0). While this assumption is okay for this analysis, please note that it's not always technically correct to simply replace NaNs with zeroes. Use the ``fillna`` function, in which you can specify what the replacement value you want is."
   ]
  },
  {
   "cell_type": "markdown",
   "metadata": {},
   "source": [
    "### Fill NAs for specific column"
   ]
  },
  {
   "cell_type": "markdown",
   "metadata": {},
   "source": []
  },
  {
   "cell_type": "markdown",
   "metadata": {},
   "source": [
    "### Fill NAs for entire dataframe"
   ]
  },
  {
   "cell_type": "code",
   "execution_count": null,
   "metadata": {},
   "outputs": [],
   "source": [
    "df_data = df_data.fillna(0)"
   ]
  },
  {
   "cell_type": "markdown",
   "metadata": {},
   "source": [
    "## Create new column for sum of non-hydro renewables"
   ]
  },
  {
   "cell_type": "code",
   "execution_count": null,
   "metadata": {},
   "outputs": [],
   "source": [
    "df_data['Other Renewables'] = df_data['Solar'] + df_data['Wind']"
   ]
  },
  {
   "cell_type": "markdown",
   "metadata": {},
   "source": [
    "## Transform data"
   ]
  },
  {
   "cell_type": "markdown",
   "metadata": {},
   "source": [
    "When plotting a time series of categorical data, it's often easiest to have your data in a \"long\" format instead of a \"wide\" format (like above). So, this next step will transform your data so that all the values for the different fuel types will be put into a single column. Another column labeled \"Fuel\" will specify the type of fuel."
   ]
  },
  {
   "cell_type": "code",
   "execution_count": null,
   "metadata": {},
   "outputs": [],
   "source": [
    "df_long = pd.melt(df_data, \n",
    "                  id_vars = 'Year', \n",
    "                  value_vars = ['Coal', 'Natural Gas', 'Petroleum', \n",
    "                                'Nuclear', 'Hydropower', \n",
    "                                'Wood/biomass', 'Solar', 'Wind', \n",
    "                                'Other Renewables', 'Total Fossil', 'Total Renewable Energy'], \n",
    "                  var_name = 'Fuel', value_name = 'Value')"
   ]
  },
  {
   "cell_type": "code",
   "execution_count": null,
   "metadata": {},
   "outputs": [],
   "source": [
    "df_long.head()"
   ]
  },
  {
   "cell_type": "markdown",
   "metadata": {},
   "source": [
    "## Remove totals"
   ]
  },
  {
   "cell_type": "code",
   "execution_count": null,
   "metadata": {},
   "outputs": [],
   "source": [
    "df_fuels = df_long[~df_long.Fuel.isin(['Total Fossil', 'Total Renewable Energy', 'Solar', 'Wind'])]"
   ]
  },
  {
   "cell_type": "markdown",
   "metadata": {},
   "source": [
    "## Plot data"
   ]
  },
  {
   "cell_type": "markdown",
   "metadata": {},
   "source": [
    "### Preliminary plot"
   ]
  },
  {
   "cell_type": "code",
   "execution_count": null,
   "metadata": {},
   "outputs": [],
   "source": [
    "ax = sns.lineplot(data = df_fuels, x = \"Year\", y = \"Value\", hue = \"Fuel\")"
   ]
  },
  {
   "cell_type": "code",
   "execution_count": null,
   "metadata": {},
   "outputs": [],
   "source": [
    "matplotlib.style.use('ggplot')"
   ]
  },
  {
   "cell_type": "markdown",
   "metadata": {},
   "source": [
    "### Specify fuel type colors"
   ]
  },
  {
   "cell_type": "code",
   "execution_count": null,
   "metadata": {},
   "outputs": [],
   "source": [
    "ax = sns.lineplot(data = df_fuels, x = \"Year\", y = \"Value\", hue = \"Fuel\",\n",
    "                  palette = {\"Petroleum\": \"orange\",\n",
    "                             \"Natural Gas\": \"red\",\n",
    "                             \"Coal\": \"black\",\n",
    "                             \"Nuclear\": \"green\",\n",
    "                             \"Hydropower\": \"darkblue\",\n",
    "                             \"Wood/biomass\": \"brown\",\n",
    "                             \"Other Renewables\": \"skyblue\"});"
   ]
  },
  {
   "cell_type": "markdown",
   "metadata": {},
   "source": [
    "### Change axes"
   ]
  },
  {
   "cell_type": "code",
   "execution_count": null,
   "metadata": {},
   "outputs": [],
   "source": [
    "ax = sns.lineplot(data = df_fuels, x = \"Year\", y = \"Value\", hue = \"Fuel\",\n",
    "                  palette = {\"Petroleum\": \"orange\",\n",
    "                             \"Natural Gas\": \"red\",\n",
    "                             \"Coal\": \"black\",\n",
    "                             \"Nuclear\": \"green\",\n",
    "                             \"Hydropower\": \"darkblue\",\n",
    "                             \"Wood/biomass\": \"brown\",\n",
    "                             \"Other Renewables\": \"skyblue\"});\n",
    "ax.set_title('US Primary Energy Consumption by Source (1635 – 2017)', fontsize = 18);\n",
    "ax.set_xlabel('Year', fontsize = 15);\n",
    "ax.set_ylabel('Quadrillion Btu', fontsize = 15);\n",
    "ax.set_xlim([1635,2017]);\n",
    "ax.set_ylim([0,45]);"
   ]
  },
  {
   "cell_type": "code",
   "execution_count": null,
   "metadata": {},
   "outputs": [],
   "source": [
    "ax = sns.lineplot(data = df_fuels, x = \"Year\", y = \"Value\", hue = \"Fuel\",\n",
    "                  palette = {\"Petroleum\": \"orange\",\n",
    "                             \"Natural Gas\": \"red\",\n",
    "                             \"Coal\": \"black\",\n",
    "                             \"Nuclear\": \"green\",\n",
    "                             \"Hydropower\": \"darkblue\",\n",
    "                             \"Wood/biomass\": \"brown\",\n",
    "                             \"Other Renewables\": \"skyblue\"})\n",
    "ax.set_title('US Primary Energy Consumption by Source (1635 – 2017)', fontsize = 18);\n",
    "ax.set_xlabel('Year', fontsize = 15);\n",
    "ax.set_ylabel('Quadrillion Btu', fontsize = 15);\n",
    "ax.set_xlim([1635,2017]);"
   ]
  },
  {
   "cell_type": "code",
   "execution_count": null,
   "metadata": {},
   "outputs": [],
   "source": []
  },
  {
   "cell_type": "code",
   "execution_count": null,
   "metadata": {},
   "outputs": [],
   "source": [
    "ax.savefig(\"output.png\")\n"
   ]
  },
  {
   "cell_type": "code",
   "execution_count": null,
   "metadata": {},
   "outputs": [],
   "source": []
  }
 ],
 "metadata": {
  "kernelspec": {
   "display_name": "Python 3",
   "language": "python",
   "name": "python3"
  },
  "language_info": {
   "codemirror_mode": {
    "name": "ipython",
    "version": 3
   },
   "file_extension": ".py",
   "mimetype": "text/x-python",
   "name": "python",
   "nbconvert_exporter": "python",
   "pygments_lexer": "ipython3",
   "version": "3.6.7"
  }
 },
 "nbformat": 4,
 "nbformat_minor": 2
}
