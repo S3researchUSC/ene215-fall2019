{
 "cells": [
  {
   "cell_type": "markdown",
   "metadata": {},
   "source": [
    "# Energy Transitions Python Tutorial"
   ]
  },
  {
   "cell_type": "markdown",
   "metadata": {},
   "source": [
    "Using Python, create a plot of primary energy consumption over time from 1635 to 2017."
   ]
  },
  {
   "cell_type": "markdown",
   "metadata": {},
   "source": [
    "## Import libraries"
   ]
  },
  {
   "cell_type": "markdown",
   "metadata": {},
   "source": [
    "There are certain libraries that you're going to need to complete this assignment. I'm going to be giving brief, big-picture summaries."
   ]
  },
  {
   "cell_type": "markdown",
   "metadata": {},
   "source": [
    "### pandas"
   ]
  },
  {
   "cell_type": "markdown",
   "metadata": {},
   "source": [
    "*pandas* is a library that lets you use conduct analyses on dataframes (instead of just regular vectors/arrays in python). \n",
    "\n",
    "The \"as pd\" in the next line means from this point onward, when we want to call a function in the pandas library, we can just use \"pd\" for short."
   ]
  },
  {
   "cell_type": "code",
   "execution_count": 1,
   "metadata": {},
   "outputs": [],
   "source": [
    "import pandas as pd"
   ]
  },
  {
   "cell_type": "code",
   "execution_count": 2,
   "metadata": {},
   "outputs": [],
   "source": [
    "# import pandas as pd\n",
    "# import numpy as np\n",
    "# import matplotlib\n",
    "# import matplotlib.pyplot as plt\n",
    "# import seaborn as sns; sns.set()"
   ]
  },
  {
   "cell_type": "markdown",
   "metadata": {},
   "source": [
    "## Read in CSV file as a dataframe"
   ]
  },
  {
   "cell_type": "markdown",
   "metadata": {},
   "source": [
    "Reading in CSV files is easy thanks to pandas' ``read_csv`` function, which imports CSV files as dataframes.\n",
    "\n",
    "Our CSV file is kept in a subfolder named \"data\", so we have to reference that folder when calling on the CSV file.\n",
    "\n",
    "If you take a look at the CSV file, you'll notice that the first row contains a URL, and the second row is a summary of the data table. We can tell ``read_csv`` to skip the first two rows, so that the function will start creating a dataframe from the third row and onward.\n",
    "\n",
    "You can give your dataframe any name you would like (as long it doesn't contain any spaces, periods, or special characters (except for an underscore). I'm going to name the dataframe ``df_data``."
   ]
  },
  {
   "cell_type": "code",
   "execution_count": 3,
   "metadata": {},
   "outputs": [],
   "source": [
    "df_data = pd.read_csv('data/Primary Energy Consumption_from 1635.csv', skiprows = 2)"
   ]
  },
  {
   "cell_type": "markdown",
   "metadata": {},
   "source": [
    "Now that you have a dataframe, you can view the first 5 rows using the ``head()`` function."
   ]
  },
  {
   "cell_type": "code",
   "execution_count": 4,
   "metadata": {},
   "outputs": [
    {
     "data": {
      "text/html": [
       "<div>\n",
       "<style scoped>\n",
       "    .dataframe tbody tr th:only-of-type {\n",
       "        vertical-align: middle;\n",
       "    }\n",
       "\n",
       "    .dataframe tbody tr th {\n",
       "        vertical-align: top;\n",
       "    }\n",
       "\n",
       "    .dataframe thead th {\n",
       "        text-align: right;\n",
       "    }\n",
       "</style>\n",
       "<table border=\"1\" class=\"dataframe\">\n",
       "  <thead>\n",
       "    <tr style=\"text-align: right;\">\n",
       "      <th></th>\n",
       "      <th>Unnamed: 0</th>\n",
       "      <th>Coal</th>\n",
       "      <th>Natural Gas</th>\n",
       "      <th>Petroleum</th>\n",
       "      <th>Total Fossil</th>\n",
       "      <th>Nuclear</th>\n",
       "      <th>Hydropower</th>\n",
       "      <th>Wood/biomass</th>\n",
       "      <th>Solar</th>\n",
       "      <th>Wind</th>\n",
       "      <th>Total Renewable Energy</th>\n",
       "    </tr>\n",
       "  </thead>\n",
       "  <tbody>\n",
       "    <tr>\n",
       "      <th>0</th>\n",
       "      <td>1635</td>\n",
       "      <td>0.0</td>\n",
       "      <td>NaN</td>\n",
       "      <td>NaN</td>\n",
       "      <td>0.0</td>\n",
       "      <td>NaN</td>\n",
       "      <td>NaN</td>\n",
       "      <td>NaN</td>\n",
       "      <td>NaN</td>\n",
       "      <td>NaN</td>\n",
       "      <td>0.000</td>\n",
       "    </tr>\n",
       "    <tr>\n",
       "      <th>1</th>\n",
       "      <td>1645</td>\n",
       "      <td>NaN</td>\n",
       "      <td>NaN</td>\n",
       "      <td>NaN</td>\n",
       "      <td>0.0</td>\n",
       "      <td>NaN</td>\n",
       "      <td>NaN</td>\n",
       "      <td>0.001</td>\n",
       "      <td>NaN</td>\n",
       "      <td>NaN</td>\n",
       "      <td>0.001</td>\n",
       "    </tr>\n",
       "    <tr>\n",
       "      <th>2</th>\n",
       "      <td>1655</td>\n",
       "      <td>NaN</td>\n",
       "      <td>NaN</td>\n",
       "      <td>NaN</td>\n",
       "      <td>0.0</td>\n",
       "      <td>NaN</td>\n",
       "      <td>NaN</td>\n",
       "      <td>0.002</td>\n",
       "      <td>NaN</td>\n",
       "      <td>NaN</td>\n",
       "      <td>0.002</td>\n",
       "    </tr>\n",
       "    <tr>\n",
       "      <th>3</th>\n",
       "      <td>1665</td>\n",
       "      <td>NaN</td>\n",
       "      <td>NaN</td>\n",
       "      <td>NaN</td>\n",
       "      <td>0.0</td>\n",
       "      <td>NaN</td>\n",
       "      <td>NaN</td>\n",
       "      <td>0.005</td>\n",
       "      <td>NaN</td>\n",
       "      <td>NaN</td>\n",
       "      <td>0.005</td>\n",
       "    </tr>\n",
       "    <tr>\n",
       "      <th>4</th>\n",
       "      <td>1675</td>\n",
       "      <td>NaN</td>\n",
       "      <td>NaN</td>\n",
       "      <td>NaN</td>\n",
       "      <td>0.0</td>\n",
       "      <td>NaN</td>\n",
       "      <td>NaN</td>\n",
       "      <td>0.007</td>\n",
       "      <td>NaN</td>\n",
       "      <td>NaN</td>\n",
       "      <td>0.007</td>\n",
       "    </tr>\n",
       "  </tbody>\n",
       "</table>\n",
       "</div>"
      ],
      "text/plain": [
       "   Unnamed: 0  Coal  Natural Gas  Petroleum  Total Fossil  Nuclear  \\\n",
       "0        1635   0.0          NaN        NaN           0.0      NaN   \n",
       "1        1645   NaN          NaN        NaN           0.0      NaN   \n",
       "2        1655   NaN          NaN        NaN           0.0      NaN   \n",
       "3        1665   NaN          NaN        NaN           0.0      NaN   \n",
       "4        1675   NaN          NaN        NaN           0.0      NaN   \n",
       "\n",
       "   Hydropower  Wood/biomass  Solar  Wind  Total Renewable Energy  \n",
       "0         NaN           NaN    NaN   NaN                   0.000  \n",
       "1         NaN         0.001    NaN   NaN                   0.001  \n",
       "2         NaN         0.002    NaN   NaN                   0.002  \n",
       "3         NaN         0.005    NaN   NaN                   0.005  \n",
       "4         NaN         0.007    NaN   NaN                   0.007  "
      ]
     },
     "execution_count": 4,
     "metadata": {},
     "output_type": "execute_result"
    }
   ],
   "source": [
    "df_data.head()"
   ]
  },
  {
   "cell_type": "markdown",
   "metadata": {},
   "source": [
    "To gain general information on the dataframe, use ``info()``."
   ]
  },
  {
   "cell_type": "code",
   "execution_count": 5,
   "metadata": {},
   "outputs": [
    {
     "name": "stdout",
     "output_type": "stream",
     "text": [
      "<class 'pandas.core.frame.DataFrame'>\n",
      "RangeIndex: 112 entries, 0 to 111\n",
      "Data columns (total 11 columns):\n",
      "Unnamed: 0                112 non-null int64\n",
      "Coal                      91 non-null float64\n",
      "Natural Gas               83 non-null float64\n",
      "Petroleum                 88 non-null float64\n",
      "Total Fossil              112 non-null float64\n",
      "Nuclear                   62 non-null float64\n",
      "Hydropower                82 non-null float64\n",
      "Wood/biomass              111 non-null float64\n",
      "Solar                     35 non-null float64\n",
      "Wind                      36 non-null float64\n",
      "Total Renewable Energy    112 non-null float64\n",
      "dtypes: float64(10), int64(1)\n",
      "memory usage: 9.7 KB\n"
     ]
    }
   ],
   "source": [
    "df_data.info()"
   ]
  },
  {
   "cell_type": "markdown",
   "metadata": {},
   "source": [
    "From the information above, we can see there are 112 rows (entries), and each column is a fuel type. The first column, which should be the year, is missing a column name (since the cell is empty in the CSV file). We can rename the column in the dataframe, without having to edit the CSV file."
   ]
  },
  {
   "cell_type": "markdown",
   "metadata": {},
   "source": [
    "### Rename column"
   ]
  },
  {
   "cell_type": "markdown",
   "metadata": {},
   "source": [
    "To rename a column, use the ``rename`` function, and specify that we're trying to rename columns. If the column you want to rename already has an existing name, you can specify the original column name. However, in our case, the column itself is *unnamed*. Thus, we're going to use a number index to specify the column. In Python, the index number starts at **zero** (instead of 1). So, the first column in the CSV file corresponds to the 0 indexed column. We can specify that column index and choose to rename it to \"Year\"."
   ]
  },
  {
   "cell_type": "code",
   "execution_count": 6,
   "metadata": {},
   "outputs": [],
   "source": [
    "df_data = df_data.rename(columns = { df_data.columns[0]: \"Year\" })"
   ]
  },
  {
   "cell_type": "markdown",
   "metadata": {},
   "source": [
    "Let's take a look at the head of the dataframe again:"
   ]
  },
  {
   "cell_type": "code",
   "execution_count": 7,
   "metadata": {},
   "outputs": [
    {
     "data": {
      "text/html": [
       "<div>\n",
       "<style scoped>\n",
       "    .dataframe tbody tr th:only-of-type {\n",
       "        vertical-align: middle;\n",
       "    }\n",
       "\n",
       "    .dataframe tbody tr th {\n",
       "        vertical-align: top;\n",
       "    }\n",
       "\n",
       "    .dataframe thead th {\n",
       "        text-align: right;\n",
       "    }\n",
       "</style>\n",
       "<table border=\"1\" class=\"dataframe\">\n",
       "  <thead>\n",
       "    <tr style=\"text-align: right;\">\n",
       "      <th></th>\n",
       "      <th>Year</th>\n",
       "      <th>Coal</th>\n",
       "      <th>Natural Gas</th>\n",
       "      <th>Petroleum</th>\n",
       "      <th>Total Fossil</th>\n",
       "      <th>Nuclear</th>\n",
       "      <th>Hydropower</th>\n",
       "      <th>Wood/biomass</th>\n",
       "      <th>Solar</th>\n",
       "      <th>Wind</th>\n",
       "      <th>Total Renewable Energy</th>\n",
       "    </tr>\n",
       "  </thead>\n",
       "  <tbody>\n",
       "    <tr>\n",
       "      <th>0</th>\n",
       "      <td>1635</td>\n",
       "      <td>0.0</td>\n",
       "      <td>NaN</td>\n",
       "      <td>NaN</td>\n",
       "      <td>0.0</td>\n",
       "      <td>NaN</td>\n",
       "      <td>NaN</td>\n",
       "      <td>NaN</td>\n",
       "      <td>NaN</td>\n",
       "      <td>NaN</td>\n",
       "      <td>0.000</td>\n",
       "    </tr>\n",
       "    <tr>\n",
       "      <th>1</th>\n",
       "      <td>1645</td>\n",
       "      <td>NaN</td>\n",
       "      <td>NaN</td>\n",
       "      <td>NaN</td>\n",
       "      <td>0.0</td>\n",
       "      <td>NaN</td>\n",
       "      <td>NaN</td>\n",
       "      <td>0.001</td>\n",
       "      <td>NaN</td>\n",
       "      <td>NaN</td>\n",
       "      <td>0.001</td>\n",
       "    </tr>\n",
       "    <tr>\n",
       "      <th>2</th>\n",
       "      <td>1655</td>\n",
       "      <td>NaN</td>\n",
       "      <td>NaN</td>\n",
       "      <td>NaN</td>\n",
       "      <td>0.0</td>\n",
       "      <td>NaN</td>\n",
       "      <td>NaN</td>\n",
       "      <td>0.002</td>\n",
       "      <td>NaN</td>\n",
       "      <td>NaN</td>\n",
       "      <td>0.002</td>\n",
       "    </tr>\n",
       "    <tr>\n",
       "      <th>3</th>\n",
       "      <td>1665</td>\n",
       "      <td>NaN</td>\n",
       "      <td>NaN</td>\n",
       "      <td>NaN</td>\n",
       "      <td>0.0</td>\n",
       "      <td>NaN</td>\n",
       "      <td>NaN</td>\n",
       "      <td>0.005</td>\n",
       "      <td>NaN</td>\n",
       "      <td>NaN</td>\n",
       "      <td>0.005</td>\n",
       "    </tr>\n",
       "    <tr>\n",
       "      <th>4</th>\n",
       "      <td>1675</td>\n",
       "      <td>NaN</td>\n",
       "      <td>NaN</td>\n",
       "      <td>NaN</td>\n",
       "      <td>0.0</td>\n",
       "      <td>NaN</td>\n",
       "      <td>NaN</td>\n",
       "      <td>0.007</td>\n",
       "      <td>NaN</td>\n",
       "      <td>NaN</td>\n",
       "      <td>0.007</td>\n",
       "    </tr>\n",
       "  </tbody>\n",
       "</table>\n",
       "</div>"
      ],
      "text/plain": [
       "   Year  Coal  Natural Gas  Petroleum  Total Fossil  Nuclear  Hydropower  \\\n",
       "0  1635   0.0          NaN        NaN           0.0      NaN         NaN   \n",
       "1  1645   NaN          NaN        NaN           0.0      NaN         NaN   \n",
       "2  1655   NaN          NaN        NaN           0.0      NaN         NaN   \n",
       "3  1665   NaN          NaN        NaN           0.0      NaN         NaN   \n",
       "4  1675   NaN          NaN        NaN           0.0      NaN         NaN   \n",
       "\n",
       "   Wood/biomass  Solar  Wind  Total Renewable Energy  \n",
       "0           NaN    NaN   NaN                   0.000  \n",
       "1         0.001    NaN   NaN                   0.001  \n",
       "2         0.002    NaN   NaN                   0.002  \n",
       "3         0.005    NaN   NaN                   0.005  \n",
       "4         0.007    NaN   NaN                   0.007  "
      ]
     },
     "execution_count": 7,
     "metadata": {},
     "output_type": "execute_result"
    }
   ],
   "source": [
    "df_data.head()"
   ]
  },
  {
   "cell_type": "markdown",
   "metadata": {},
   "source": [
    "## Fill NAs"
   ]
  },
  {
   "cell_type": "markdown",
   "metadata": {},
   "source": [
    "We can see from the dataframe that there are a lot of empty values, especially in the earlier years. Pandas has converted the empty cells in the CSV to NaN (null) values.\n",
    "\n",
    "For our plot, we need to replace the NA values. In our case, we're going to replace all incidences of NaN with zero (0). While this assumption is okay for this analysis, please note that it's not always technically correct to simply replace NaNs with zeroes. Use the ``fillna`` function, in which you can specify what the replacement value you want is."
   ]
  },
  {
   "cell_type": "markdown",
   "metadata": {},
   "source": [
    "### Fill NAs for specific column"
   ]
  },
  {
   "cell_type": "markdown",
   "metadata": {},
   "source": [
    "If you want to fill NaN values one column at a time, you can specify the column you want to apply the function on. As an example, let's say we want to replace the NaNs in the Natural Gas column with zeroes."
   ]
  },
  {
   "cell_type": "code",
   "execution_count": 8,
   "metadata": {},
   "outputs": [],
   "source": [
    "df_data['Natural Gas'] = df_data['Natural Gas'].fillna(0)"
   ]
  },
  {
   "cell_type": "code",
   "execution_count": 9,
   "metadata": {},
   "outputs": [
    {
     "data": {
      "text/html": [
       "<div>\n",
       "<style scoped>\n",
       "    .dataframe tbody tr th:only-of-type {\n",
       "        vertical-align: middle;\n",
       "    }\n",
       "\n",
       "    .dataframe tbody tr th {\n",
       "        vertical-align: top;\n",
       "    }\n",
       "\n",
       "    .dataframe thead th {\n",
       "        text-align: right;\n",
       "    }\n",
       "</style>\n",
       "<table border=\"1\" class=\"dataframe\">\n",
       "  <thead>\n",
       "    <tr style=\"text-align: right;\">\n",
       "      <th></th>\n",
       "      <th>Year</th>\n",
       "      <th>Coal</th>\n",
       "      <th>Natural Gas</th>\n",
       "      <th>Petroleum</th>\n",
       "      <th>Total Fossil</th>\n",
       "      <th>Nuclear</th>\n",
       "      <th>Hydropower</th>\n",
       "      <th>Wood/biomass</th>\n",
       "      <th>Solar</th>\n",
       "      <th>Wind</th>\n",
       "      <th>Total Renewable Energy</th>\n",
       "    </tr>\n",
       "  </thead>\n",
       "  <tbody>\n",
       "    <tr>\n",
       "      <th>0</th>\n",
       "      <td>1635</td>\n",
       "      <td>0.0</td>\n",
       "      <td>0.0</td>\n",
       "      <td>NaN</td>\n",
       "      <td>0.0</td>\n",
       "      <td>NaN</td>\n",
       "      <td>NaN</td>\n",
       "      <td>NaN</td>\n",
       "      <td>NaN</td>\n",
       "      <td>NaN</td>\n",
       "      <td>0.000</td>\n",
       "    </tr>\n",
       "    <tr>\n",
       "      <th>1</th>\n",
       "      <td>1645</td>\n",
       "      <td>NaN</td>\n",
       "      <td>0.0</td>\n",
       "      <td>NaN</td>\n",
       "      <td>0.0</td>\n",
       "      <td>NaN</td>\n",
       "      <td>NaN</td>\n",
       "      <td>0.001</td>\n",
       "      <td>NaN</td>\n",
       "      <td>NaN</td>\n",
       "      <td>0.001</td>\n",
       "    </tr>\n",
       "    <tr>\n",
       "      <th>2</th>\n",
       "      <td>1655</td>\n",
       "      <td>NaN</td>\n",
       "      <td>0.0</td>\n",
       "      <td>NaN</td>\n",
       "      <td>0.0</td>\n",
       "      <td>NaN</td>\n",
       "      <td>NaN</td>\n",
       "      <td>0.002</td>\n",
       "      <td>NaN</td>\n",
       "      <td>NaN</td>\n",
       "      <td>0.002</td>\n",
       "    </tr>\n",
       "    <tr>\n",
       "      <th>3</th>\n",
       "      <td>1665</td>\n",
       "      <td>NaN</td>\n",
       "      <td>0.0</td>\n",
       "      <td>NaN</td>\n",
       "      <td>0.0</td>\n",
       "      <td>NaN</td>\n",
       "      <td>NaN</td>\n",
       "      <td>0.005</td>\n",
       "      <td>NaN</td>\n",
       "      <td>NaN</td>\n",
       "      <td>0.005</td>\n",
       "    </tr>\n",
       "    <tr>\n",
       "      <th>4</th>\n",
       "      <td>1675</td>\n",
       "      <td>NaN</td>\n",
       "      <td>0.0</td>\n",
       "      <td>NaN</td>\n",
       "      <td>0.0</td>\n",
       "      <td>NaN</td>\n",
       "      <td>NaN</td>\n",
       "      <td>0.007</td>\n",
       "      <td>NaN</td>\n",
       "      <td>NaN</td>\n",
       "      <td>0.007</td>\n",
       "    </tr>\n",
       "  </tbody>\n",
       "</table>\n",
       "</div>"
      ],
      "text/plain": [
       "   Year  Coal  Natural Gas  Petroleum  Total Fossil  Nuclear  Hydropower  \\\n",
       "0  1635   0.0          0.0        NaN           0.0      NaN         NaN   \n",
       "1  1645   NaN          0.0        NaN           0.0      NaN         NaN   \n",
       "2  1655   NaN          0.0        NaN           0.0      NaN         NaN   \n",
       "3  1665   NaN          0.0        NaN           0.0      NaN         NaN   \n",
       "4  1675   NaN          0.0        NaN           0.0      NaN         NaN   \n",
       "\n",
       "   Wood/biomass  Solar  Wind  Total Renewable Energy  \n",
       "0           NaN    NaN   NaN                   0.000  \n",
       "1         0.001    NaN   NaN                   0.001  \n",
       "2         0.002    NaN   NaN                   0.002  \n",
       "3         0.005    NaN   NaN                   0.005  \n",
       "4         0.007    NaN   NaN                   0.007  "
      ]
     },
     "execution_count": 9,
     "metadata": {},
     "output_type": "execute_result"
    }
   ],
   "source": [
    "df_data.head()"
   ]
  },
  {
   "cell_type": "markdown",
   "metadata": {},
   "source": [
    "### Fill NAs for entire dataframe"
   ]
  },
  {
   "cell_type": "markdown",
   "metadata": {},
   "source": [
    "It's going to be annoying doing that for every column. Let's instead replace every NaN in the entire dataframe:"
   ]
  },
  {
   "cell_type": "code",
   "execution_count": 10,
   "metadata": {},
   "outputs": [],
   "source": [
    "df_data = df_data.fillna(0)"
   ]
  },
  {
   "cell_type": "markdown",
   "metadata": {},
   "source": [
    "## Create new column for sum of non-hydro renewables"
   ]
  },
  {
   "cell_type": "markdown",
   "metadata": {},
   "source": [
    "The assignment specifies that there should be an \"Other Rewnewables\" column, which would be separate from Hydropower. The \"Other Renewables\" column should be the sum of solar and wind energy. Since such a column does not exist in the dataframe, we can create a new dataframe that is the sum of the Solar and Wind columns."
   ]
  },
  {
   "cell_type": "code",
   "execution_count": 11,
   "metadata": {},
   "outputs": [],
   "source": [
    "df_data['Other Renewables'] = df_data['Solar'] + df_data['Wind']"
   ]
  },
  {
   "cell_type": "code",
   "execution_count": 12,
   "metadata": {},
   "outputs": [
    {
     "data": {
      "text/html": [
       "<div>\n",
       "<style scoped>\n",
       "    .dataframe tbody tr th:only-of-type {\n",
       "        vertical-align: middle;\n",
       "    }\n",
       "\n",
       "    .dataframe tbody tr th {\n",
       "        vertical-align: top;\n",
       "    }\n",
       "\n",
       "    .dataframe thead th {\n",
       "        text-align: right;\n",
       "    }\n",
       "</style>\n",
       "<table border=\"1\" class=\"dataframe\">\n",
       "  <thead>\n",
       "    <tr style=\"text-align: right;\">\n",
       "      <th></th>\n",
       "      <th>Year</th>\n",
       "      <th>Coal</th>\n",
       "      <th>Natural Gas</th>\n",
       "      <th>Petroleum</th>\n",
       "      <th>Total Fossil</th>\n",
       "      <th>Nuclear</th>\n",
       "      <th>Hydropower</th>\n",
       "      <th>Wood/biomass</th>\n",
       "      <th>Solar</th>\n",
       "      <th>Wind</th>\n",
       "      <th>Total Renewable Energy</th>\n",
       "      <th>Other Renewables</th>\n",
       "    </tr>\n",
       "  </thead>\n",
       "  <tbody>\n",
       "    <tr>\n",
       "      <th>0</th>\n",
       "      <td>1635</td>\n",
       "      <td>0.0</td>\n",
       "      <td>0.0</td>\n",
       "      <td>0.0</td>\n",
       "      <td>0.0</td>\n",
       "      <td>0.0</td>\n",
       "      <td>0.0</td>\n",
       "      <td>0.000</td>\n",
       "      <td>0.0</td>\n",
       "      <td>0.0</td>\n",
       "      <td>0.000</td>\n",
       "      <td>0.0</td>\n",
       "    </tr>\n",
       "    <tr>\n",
       "      <th>1</th>\n",
       "      <td>1645</td>\n",
       "      <td>0.0</td>\n",
       "      <td>0.0</td>\n",
       "      <td>0.0</td>\n",
       "      <td>0.0</td>\n",
       "      <td>0.0</td>\n",
       "      <td>0.0</td>\n",
       "      <td>0.001</td>\n",
       "      <td>0.0</td>\n",
       "      <td>0.0</td>\n",
       "      <td>0.001</td>\n",
       "      <td>0.0</td>\n",
       "    </tr>\n",
       "    <tr>\n",
       "      <th>2</th>\n",
       "      <td>1655</td>\n",
       "      <td>0.0</td>\n",
       "      <td>0.0</td>\n",
       "      <td>0.0</td>\n",
       "      <td>0.0</td>\n",
       "      <td>0.0</td>\n",
       "      <td>0.0</td>\n",
       "      <td>0.002</td>\n",
       "      <td>0.0</td>\n",
       "      <td>0.0</td>\n",
       "      <td>0.002</td>\n",
       "      <td>0.0</td>\n",
       "    </tr>\n",
       "    <tr>\n",
       "      <th>3</th>\n",
       "      <td>1665</td>\n",
       "      <td>0.0</td>\n",
       "      <td>0.0</td>\n",
       "      <td>0.0</td>\n",
       "      <td>0.0</td>\n",
       "      <td>0.0</td>\n",
       "      <td>0.0</td>\n",
       "      <td>0.005</td>\n",
       "      <td>0.0</td>\n",
       "      <td>0.0</td>\n",
       "      <td>0.005</td>\n",
       "      <td>0.0</td>\n",
       "    </tr>\n",
       "    <tr>\n",
       "      <th>4</th>\n",
       "      <td>1675</td>\n",
       "      <td>0.0</td>\n",
       "      <td>0.0</td>\n",
       "      <td>0.0</td>\n",
       "      <td>0.0</td>\n",
       "      <td>0.0</td>\n",
       "      <td>0.0</td>\n",
       "      <td>0.007</td>\n",
       "      <td>0.0</td>\n",
       "      <td>0.0</td>\n",
       "      <td>0.007</td>\n",
       "      <td>0.0</td>\n",
       "    </tr>\n",
       "  </tbody>\n",
       "</table>\n",
       "</div>"
      ],
      "text/plain": [
       "   Year  Coal  Natural Gas  Petroleum  Total Fossil  Nuclear  Hydropower  \\\n",
       "0  1635   0.0          0.0        0.0           0.0      0.0         0.0   \n",
       "1  1645   0.0          0.0        0.0           0.0      0.0         0.0   \n",
       "2  1655   0.0          0.0        0.0           0.0      0.0         0.0   \n",
       "3  1665   0.0          0.0        0.0           0.0      0.0         0.0   \n",
       "4  1675   0.0          0.0        0.0           0.0      0.0         0.0   \n",
       "\n",
       "   Wood/biomass  Solar  Wind  Total Renewable Energy  Other Renewables  \n",
       "0         0.000    0.0   0.0                   0.000               0.0  \n",
       "1         0.001    0.0   0.0                   0.001               0.0  \n",
       "2         0.002    0.0   0.0                   0.002               0.0  \n",
       "3         0.005    0.0   0.0                   0.005               0.0  \n",
       "4         0.007    0.0   0.0                   0.007               0.0  "
      ]
     },
     "execution_count": 12,
     "metadata": {},
     "output_type": "execute_result"
    }
   ],
   "source": [
    "df_data.head()"
   ]
  },
  {
   "cell_type": "markdown",
   "metadata": {},
   "source": [
    "Looking at the first few rows of the dataframe doesn't tell us much, since both solar and wind energy consumption were zero from 1635 to 1675. We can instead glance at the *last* five rows of the dataframe using ``tail()``."
   ]
  },
  {
   "cell_type": "code",
   "execution_count": 13,
   "metadata": {},
   "outputs": [
    {
     "data": {
      "text/html": [
       "<div>\n",
       "<style scoped>\n",
       "    .dataframe tbody tr th:only-of-type {\n",
       "        vertical-align: middle;\n",
       "    }\n",
       "\n",
       "    .dataframe tbody tr th {\n",
       "        vertical-align: top;\n",
       "    }\n",
       "\n",
       "    .dataframe thead th {\n",
       "        text-align: right;\n",
       "    }\n",
       "</style>\n",
       "<table border=\"1\" class=\"dataframe\">\n",
       "  <thead>\n",
       "    <tr style=\"text-align: right;\">\n",
       "      <th></th>\n",
       "      <th>Year</th>\n",
       "      <th>Coal</th>\n",
       "      <th>Natural Gas</th>\n",
       "      <th>Petroleum</th>\n",
       "      <th>Total Fossil</th>\n",
       "      <th>Nuclear</th>\n",
       "      <th>Hydropower</th>\n",
       "      <th>Wood/biomass</th>\n",
       "      <th>Solar</th>\n",
       "      <th>Wind</th>\n",
       "      <th>Total Renewable Energy</th>\n",
       "      <th>Other Renewables</th>\n",
       "    </tr>\n",
       "  </thead>\n",
       "  <tbody>\n",
       "    <tr>\n",
       "      <th>107</th>\n",
       "      <td>2014</td>\n",
       "      <td>17.997632</td>\n",
       "      <td>27.382833</td>\n",
       "      <td>34.763494</td>\n",
       "      <td>80.143959</td>\n",
       "      <td>8.337559</td>\n",
       "      <td>2.466577</td>\n",
       "      <td>4.994208</td>\n",
       "      <td>0.337412</td>\n",
       "      <td>1.727542</td>\n",
       "      <td>9.525739</td>\n",
       "      <td>2.064954</td>\n",
       "    </tr>\n",
       "    <tr>\n",
       "      <th>108</th>\n",
       "      <td>2015</td>\n",
       "      <td>15.548870</td>\n",
       "      <td>28.191095</td>\n",
       "      <td>35.477609</td>\n",
       "      <td>79.217574</td>\n",
       "      <td>8.336886</td>\n",
       "      <td>2.321177</td>\n",
       "      <td>4.983358</td>\n",
       "      <td>0.426621</td>\n",
       "      <td>1.777306</td>\n",
       "      <td>9.508462</td>\n",
       "      <td>2.203927</td>\n",
       "    </tr>\n",
       "    <tr>\n",
       "      <th>109</th>\n",
       "      <td>2016</td>\n",
       "      <td>14.225905</td>\n",
       "      <td>28.400352</td>\n",
       "      <td>35.816631</td>\n",
       "      <td>78.442888</td>\n",
       "      <td>8.426753</td>\n",
       "      <td>2.472442</td>\n",
       "      <td>5.020163</td>\n",
       "      <td>0.570008</td>\n",
       "      <td>2.095595</td>\n",
       "      <td>10.158208</td>\n",
       "      <td>2.665603</td>\n",
       "    </tr>\n",
       "    <tr>\n",
       "      <th>110</th>\n",
       "      <td>2017</td>\n",
       "      <td>13.837465</td>\n",
       "      <td>28.034233</td>\n",
       "      <td>36.173585</td>\n",
       "      <td>78.045283</td>\n",
       "      <td>8.418968</td>\n",
       "      <td>2.766969</td>\n",
       "      <td>5.084265</td>\n",
       "      <td>0.776888</td>\n",
       "      <td>2.342890</td>\n",
       "      <td>10.971012</td>\n",
       "      <td>3.119778</td>\n",
       "    </tr>\n",
       "    <tr>\n",
       "      <th>111</th>\n",
       "      <td>2018</td>\n",
       "      <td>13.241336</td>\n",
       "      <td>30.964810</td>\n",
       "      <td>36.945274</td>\n",
       "      <td>81.151420</td>\n",
       "      <td>8.441226</td>\n",
       "      <td>2.687652</td>\n",
       "      <td>5.127819</td>\n",
       "      <td>0.951353</td>\n",
       "      <td>2.533131</td>\n",
       "      <td>11.299955</td>\n",
       "      <td>3.484484</td>\n",
       "    </tr>\n",
       "  </tbody>\n",
       "</table>\n",
       "</div>"
      ],
      "text/plain": [
       "     Year       Coal  Natural Gas  Petroleum  Total Fossil   Nuclear  \\\n",
       "107  2014  17.997632    27.382833  34.763494     80.143959  8.337559   \n",
       "108  2015  15.548870    28.191095  35.477609     79.217574  8.336886   \n",
       "109  2016  14.225905    28.400352  35.816631     78.442888  8.426753   \n",
       "110  2017  13.837465    28.034233  36.173585     78.045283  8.418968   \n",
       "111  2018  13.241336    30.964810  36.945274     81.151420  8.441226   \n",
       "\n",
       "     Hydropower  Wood/biomass     Solar      Wind  Total Renewable Energy  \\\n",
       "107    2.466577      4.994208  0.337412  1.727542                9.525739   \n",
       "108    2.321177      4.983358  0.426621  1.777306                9.508462   \n",
       "109    2.472442      5.020163  0.570008  2.095595               10.158208   \n",
       "110    2.766969      5.084265  0.776888  2.342890               10.971012   \n",
       "111    2.687652      5.127819  0.951353  2.533131               11.299955   \n",
       "\n",
       "     Other Renewables  \n",
       "107          2.064954  \n",
       "108          2.203927  \n",
       "109          2.665603  \n",
       "110          3.119778  \n",
       "111          3.484484  "
      ]
     },
     "execution_count": 13,
     "metadata": {},
     "output_type": "execute_result"
    }
   ],
   "source": [
    "df_data.tail()"
   ]
  },
  {
   "cell_type": "markdown",
   "metadata": {},
   "source": [
    "We can check that for the very last row: 0.951353 (solar) + 2.533131 (wind) = 3.484484 (other renewables)."
   ]
  },
  {
   "cell_type": "markdown",
   "metadata": {},
   "source": [
    "## Transform data"
   ]
  },
  {
   "cell_type": "markdown",
   "metadata": {},
   "source": [
    "When plotting a time series of categorical data, it's often easiest to have your data in a \"long\" format instead of a \"wide\" format (like df_data). So, this next step will transform your data so that all the values for the different fuel types will be put into a single column. Another column labeled \"Fuel\" will specify the type of fuel."
   ]
  },
  {
   "cell_type": "code",
   "execution_count": 14,
   "metadata": {},
   "outputs": [],
   "source": [
    "df_long = pd.melt(df_data, \n",
    "                  id_vars = 'Year', \n",
    "                  value_vars = ['Coal', 'Natural Gas', 'Petroleum', \n",
    "                                'Nuclear', 'Hydropower', \n",
    "                                'Wood/biomass', 'Solar', 'Wind', \n",
    "                                'Other Renewables', 'Total Fossil', 'Total Renewable Energy'], \n",
    "                  var_name = 'Fuel', value_name = 'Value')"
   ]
  },
  {
   "cell_type": "code",
   "execution_count": 15,
   "metadata": {},
   "outputs": [
    {
     "data": {
      "text/html": [
       "<div>\n",
       "<style scoped>\n",
       "    .dataframe tbody tr th:only-of-type {\n",
       "        vertical-align: middle;\n",
       "    }\n",
       "\n",
       "    .dataframe tbody tr th {\n",
       "        vertical-align: top;\n",
       "    }\n",
       "\n",
       "    .dataframe thead th {\n",
       "        text-align: right;\n",
       "    }\n",
       "</style>\n",
       "<table border=\"1\" class=\"dataframe\">\n",
       "  <thead>\n",
       "    <tr style=\"text-align: right;\">\n",
       "      <th></th>\n",
       "      <th>Year</th>\n",
       "      <th>Fuel</th>\n",
       "      <th>Value</th>\n",
       "    </tr>\n",
       "  </thead>\n",
       "  <tbody>\n",
       "    <tr>\n",
       "      <th>0</th>\n",
       "      <td>1635</td>\n",
       "      <td>Coal</td>\n",
       "      <td>0.0</td>\n",
       "    </tr>\n",
       "    <tr>\n",
       "      <th>1</th>\n",
       "      <td>1645</td>\n",
       "      <td>Coal</td>\n",
       "      <td>0.0</td>\n",
       "    </tr>\n",
       "    <tr>\n",
       "      <th>2</th>\n",
       "      <td>1655</td>\n",
       "      <td>Coal</td>\n",
       "      <td>0.0</td>\n",
       "    </tr>\n",
       "    <tr>\n",
       "      <th>3</th>\n",
       "      <td>1665</td>\n",
       "      <td>Coal</td>\n",
       "      <td>0.0</td>\n",
       "    </tr>\n",
       "    <tr>\n",
       "      <th>4</th>\n",
       "      <td>1675</td>\n",
       "      <td>Coal</td>\n",
       "      <td>0.0</td>\n",
       "    </tr>\n",
       "  </tbody>\n",
       "</table>\n",
       "</div>"
      ],
      "text/plain": [
       "   Year  Fuel  Value\n",
       "0  1635  Coal    0.0\n",
       "1  1645  Coal    0.0\n",
       "2  1655  Coal    0.0\n",
       "3  1665  Coal    0.0\n",
       "4  1675  Coal    0.0"
      ]
     },
     "execution_count": 15,
     "metadata": {},
     "output_type": "execute_result"
    }
   ],
   "source": [
    "df_long.head()"
   ]
  },
  {
   "cell_type": "markdown",
   "metadata": {},
   "source": [
    "## Remove fuels"
   ]
  },
  {
   "cell_type": "markdown",
   "metadata": {},
   "source": [
    "There are some fuels in the dataframe we don't really need anymore, such as \"Total Fossil\", \"Total Renewable Energy\", \"Solar\", and \"Wind\". Let's make a new dataframe titled ``df_fuels`` without the fuels we don't need."
   ]
  },
  {
   "cell_type": "code",
   "execution_count": 16,
   "metadata": {},
   "outputs": [],
   "source": [
    "df_fuels = df_long[~df_long.Fuel.isin(['Total Fossil', 'Total Renewable Energy', 'Solar', 'Wind'])]"
   ]
  },
  {
   "cell_type": "markdown",
   "metadata": {},
   "source": [
    "# Plot data"
   ]
  },
  {
   "cell_type": "markdown",
   "metadata": {},
   "source": [
    "## Import libraries"
   ]
  },
  {
   "cell_type": "code",
   "execution_count": 17,
   "metadata": {},
   "outputs": [],
   "source": [
    "import matplotlib.pyplot as plt\n",
    "plt.style.use('classic')\n",
    "%matplotlib inline"
   ]
  },
  {
   "cell_type": "code",
   "execution_count": 19,
   "metadata": {},
   "outputs": [
    {
     "data": {
      "image/png": "[encoded data removed]",
      "text/plain": [
       "<Figure size 432x288 with 1 Axes>"
      ]
     },
     "metadata": {
      "needs_background": "light"
     },
     "output_type": "display_data"
    }
   ],
   "source": [
    "# Plot the data with Matplotlib defaults\n",
    "plt.plot(df_fuels['Year'], df_fuels['Value'])\n",
    "plt.legend('ABCDEF', ncol=2, loc='upper left');"
   ]
  },
  {
   "cell_type": "code",
   "execution_count": 17,
   "metadata": {},
   "outputs": [],
   "source": [
    "# import matplotlib\n",
    "# import matplotlib.pyplot as plt\n",
    "# import seaborn as sns; sns.set()"
   ]
  },
  {
   "cell_type": "markdown",
   "metadata": {},
   "source": [
    "### Preliminary plot"
   ]
  },
  {
   "cell_type": "code",
   "execution_count": 20,
   "metadata": {},
   "outputs": [
    {
     "ename": "NameError",
     "evalue": "name 'sns' is not defined",
     "output_type": "error",
     "traceback": [
      "\u001b[0;31m---------------------------------------------------------------------------\u001b[0m",
      "\u001b[0;31mNameError\u001b[0m                                 Traceback (most recent call last)",
      "\u001b[0;32m<ipython-input-20-9502b7400320>\u001b[0m in \u001b[0;36m<module>\u001b[0;34m\u001b[0m\n\u001b[0;32m----> 1\u001b[0;31m \u001b[0msns\u001b[0m\u001b[0;34m.\u001b[0m\u001b[0mrelplot\u001b[0m\u001b[0;34m(\u001b[0m\u001b[0mdata\u001b[0m \u001b[0;34m=\u001b[0m \u001b[0mdf_fuels\u001b[0m\u001b[0;34m,\u001b[0m \u001b[0mx\u001b[0m \u001b[0;34m=\u001b[0m \u001b[0;34m\"Year\"\u001b[0m\u001b[0;34m,\u001b[0m \u001b[0my\u001b[0m \u001b[0;34m=\u001b[0m \u001b[0;34m\"Value\"\u001b[0m\u001b[0;34m,\u001b[0m \u001b[0mhue\u001b[0m \u001b[0;34m=\u001b[0m \u001b[0;34m\"Fuel\"\u001b[0m\u001b[0;34m,\u001b[0m \u001b[0mkind\u001b[0m \u001b[0;34m=\u001b[0m \u001b[0;34m'line'\u001b[0m\u001b[0;34m)\u001b[0m\u001b[0;34m;\u001b[0m\u001b[0;34m\u001b[0m\u001b[0;34m\u001b[0m\u001b[0m\n\u001b[0m",
      "\u001b[0;31mNameError\u001b[0m: name 'sns' is not defined"
     ]
    }
   ],
   "source": [
    "sns.relplot(data = df_fuels, x = \"Year\", y = \"Value\", hue = \"Fuel\", kind = 'line');"
   ]
  },
  {
   "cell_type": "code",
   "execution_count": 35,
   "metadata": {},
   "outputs": [
    {
     "data": {
      "image/png": "[encoded data removed]",
      "text/plain": [
       "<Figure size 432x288 with 1 Axes>"
      ]
     },
     "metadata": {
      "needs_background": "light"
     },
     "output_type": "display_data"
    }
   ],
   "source": [
    "ax = sns.lineplot(data = df_fuels, x = \"Year\", y = \"Value\", hue = \"Fuel\");"
   ]
  },
  {
   "cell_type": "code",
   "execution_count": null,
   "metadata": {},
   "outputs": [],
   "source": [
    "# matplotlib.style.use('ggplot')"
   ]
  },
  {
   "cell_type": "markdown",
   "metadata": {},
   "source": [
    "### Specify fuel type colors"
   ]
  },
  {
   "cell_type": "code",
   "execution_count": 36,
   "metadata": {},
   "outputs": [
    {
     "data": {
      "image/png": "[encoded data removed]",
      "text/plain": [
       "<Figure size 432x288 with 1 Axes>"
      ]
     },
     "metadata": {
      "needs_background": "light"
     },
     "output_type": "display_data"
    }
   ],
   "source": [
    "ax = sns.lineplot(data = df_fuels, x = \"Year\", y = \"Value\", hue = \"Fuel\",\n",
    "                  palette = {\"Petroleum\": \"orange\",\n",
    "                             \"Natural Gas\": \"red\",\n",
    "                             \"Coal\": \"black\",\n",
    "                             \"Nuclear\": \"green\",\n",
    "                             \"Hydropower\": \"darkblue\",\n",
    "                             \"Wood/biomass\": \"brown\",\n",
    "                             \"Other Renewables\": \"skyblue\"});"
   ]
  },
  {
   "cell_type": "markdown",
   "metadata": {},
   "source": [
    "### Change axes"
   ]
  },
  {
   "cell_type": "code",
   "execution_count": 37,
   "metadata": {},
   "outputs": [
    {
     "data": {
      "image/png": "[encoded data removed]",
      "text/plain": [
       "<Figure size 432x288 with 1 Axes>"
      ]
     },
     "metadata": {
      "needs_background": "light"
     },
     "output_type": "display_data"
    }
   ],
   "source": [
    "ax = sns.lineplot(data = df_fuels, x = \"Year\", y = \"Value\", hue = \"Fuel\",\n",
    "                  palette = {\"Petroleum\": \"orange\",\n",
    "                             \"Natural Gas\": \"red\",\n",
    "                             \"Coal\": \"black\",\n",
    "                             \"Nuclear\": \"green\",\n",
    "                             \"Hydropower\": \"darkblue\",\n",
    "                             \"Wood/biomass\": \"brown\",\n",
    "                             \"Other Renewables\": \"skyblue\"});\n",
    "ax.set_title('US Primary Energy Consumption by Source (1635 – 2017)', fontsize = 18);\n",
    "ax.set_xlabel('Year', fontsize = 15);\n",
    "ax.set_ylabel('Quadrillion Btu', fontsize = 15);\n",
    "ax.set_xlim([1635,2017]);\n",
    "ax.set_ylim([0,45]);"
   ]
  },
  {
   "cell_type": "code",
   "execution_count": 27,
   "metadata": {},
   "outputs": [
    {
     "data": {
      "image/png": "[encoded data removed]",
      "text/plain": [
       "<Figure size 490.975x360 with 1 Axes>"
      ]
     },
     "metadata": {
      "needs_background": "light"
     },
     "output_type": "display_data"
    }
   ],
   "source": []
  },
  {
   "cell_type": "code",
   "execution_count": null,
   "metadata": {},
   "outputs": [],
   "source": []
  }
 ],
 "metadata": {
  "kernelspec": {
   "display_name": "Python 3",
   "language": "python",
   "name": "python3"
  },
  "language_info": {
   "codemirror_mode": {
    "name": "ipython",
    "version": 3
   },
   "file_extension": ".py",
   "mimetype": "text/x-python",
   "name": "python",
   "nbconvert_exporter": "python",
   "pygments_lexer": "ipython3",
   "version": "3.6.7"
  }
 },
 "nbformat": 4,
 "nbformat_minor": 2
}
