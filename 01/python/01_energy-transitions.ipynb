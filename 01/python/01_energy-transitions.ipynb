{
 "cells": [
  {
   "cell_type": "markdown",
   "metadata": {},
   "source": [
    "# Energy Transitions Python Tutorial"
   ]
  },
  {
   "cell_type": "markdown",
   "metadata": {},
   "source": [
    "Using Python, create a plot of primary energy consumption over time from 1635 to 2017."
   ]
  },
  {
   "cell_type": "markdown",
   "metadata": {},
   "source": [
    "## Import libraries"
   ]
  },
  {
   "cell_type": "markdown",
   "metadata": {},
   "source": [
    "There are certain libraries that you're going to need to complete this assignment. I'm going to be giving brief, big-picture summaries."
   ]
  },
  {
   "cell_type": "markdown",
   "metadata": {},
   "source": [
    "### pandas"
   ]
  },
  {
   "cell_type": "markdown",
   "metadata": {},
   "source": [
    "*pandas* is a library that lets you use conduct analyses on dataframes (instead of just regular vectors/arrays in python). \n",
    "\n",
    "The \"as pd\" in the next line means from this point onward, when we want to call a function in the pandas library, we can just use \"pd\" for short."
   ]
  },
  {
   "cell_type": "code",
   "execution_count": 1,
   "metadata": {},
   "outputs": [],
   "source": [
    "import pandas as pd"
   ]
  },
  {
   "cell_type": "markdown",
   "metadata": {},
   "source": [
    "## Read in CSV file as a dataframe"
   ]
  },
  {
   "cell_type": "markdown",
   "metadata": {},
   "source": [
    "Reading in CSV files is easy thanks to pandas' ``read_csv`` function, which imports CSV files as dataframes.\n",
    "\n",
    "Our CSV file is kept in a subfolder named \"data\", so we have to reference that folder when calling on the CSV file.\n",
    "\n",
    "If you take a look at the CSV file, you'll notice that the first row contains a URL, and the second row is a summary of the data table. We can tell ``read_csv`` to skip the first two rows, so that the function will start creating a dataframe from the third row and onward.\n",
    "\n",
    "You can give your dataframe any name you would like (as long it doesn't contain any spaces, periods, or special characters (except for an underscore). I'm going to name the dataframe ``df_data``."
   ]
  },
  {
   "cell_type": "code",
   "execution_count": 2,
   "metadata": {},
   "outputs": [],
   "source": [
    "df_data = pd.read_csv('data/Primary Energy Consumption_from 1635.csv', skiprows = 2)"
   ]
  },
  {
   "cell_type": "markdown",
   "metadata": {},
   "source": [
    "Now that you have a dataframe, you can view the first 5 rows using the ``head()`` function."
   ]
  },
  {
   "cell_type": "code",
   "execution_count": 3,
   "metadata": {},
   "outputs": [
    {
     "data": {
      "text/html": [
       "<div>\n",
       "<style scoped>\n",
       "    .dataframe tbody tr th:only-of-type {\n",
       "        vertical-align: middle;\n",
       "    }\n",
       "\n",
       "    .dataframe tbody tr th {\n",
       "        vertical-align: top;\n",
       "    }\n",
       "\n",
       "    .dataframe thead th {\n",
       "        text-align: right;\n",
       "    }\n",
       "</style>\n",
       "<table border=\"1\" class=\"dataframe\">\n",
       "  <thead>\n",
       "    <tr style=\"text-align: right;\">\n",
       "      <th></th>\n",
       "      <th>Unnamed: 0</th>\n",
       "      <th>Coal</th>\n",
       "      <th>Natural Gas</th>\n",
       "      <th>Petroleum</th>\n",
       "      <th>Total Fossil</th>\n",
       "      <th>Nuclear</th>\n",
       "      <th>Hydropower</th>\n",
       "      <th>Wood/biomass</th>\n",
       "      <th>Solar</th>\n",
       "      <th>Wind</th>\n",
       "      <th>Total Renewable Energy</th>\n",
       "    </tr>\n",
       "  </thead>\n",
       "  <tbody>\n",
       "    <tr>\n",
       "      <th>0</th>\n",
       "      <td>1635</td>\n",
       "      <td>0.0</td>\n",
       "      <td>NaN</td>\n",
       "      <td>NaN</td>\n",
       "      <td>0.0</td>\n",
       "      <td>NaN</td>\n",
       "      <td>NaN</td>\n",
       "      <td>NaN</td>\n",
       "      <td>NaN</td>\n",
       "      <td>NaN</td>\n",
       "      <td>0.000</td>\n",
       "    </tr>\n",
       "    <tr>\n",
       "      <th>1</th>\n",
       "      <td>1645</td>\n",
       "      <td>NaN</td>\n",
       "      <td>NaN</td>\n",
       "      <td>NaN</td>\n",
       "      <td>0.0</td>\n",
       "      <td>NaN</td>\n",
       "      <td>NaN</td>\n",
       "      <td>0.001</td>\n",
       "      <td>NaN</td>\n",
       "      <td>NaN</td>\n",
       "      <td>0.001</td>\n",
       "    </tr>\n",
       "    <tr>\n",
       "      <th>2</th>\n",
       "      <td>1655</td>\n",
       "      <td>NaN</td>\n",
       "      <td>NaN</td>\n",
       "      <td>NaN</td>\n",
       "      <td>0.0</td>\n",
       "      <td>NaN</td>\n",
       "      <td>NaN</td>\n",
       "      <td>0.002</td>\n",
       "      <td>NaN</td>\n",
       "      <td>NaN</td>\n",
       "      <td>0.002</td>\n",
       "    </tr>\n",
       "    <tr>\n",
       "      <th>3</th>\n",
       "      <td>1665</td>\n",
       "      <td>NaN</td>\n",
       "      <td>NaN</td>\n",
       "      <td>NaN</td>\n",
       "      <td>0.0</td>\n",
       "      <td>NaN</td>\n",
       "      <td>NaN</td>\n",
       "      <td>0.005</td>\n",
       "      <td>NaN</td>\n",
       "      <td>NaN</td>\n",
       "      <td>0.005</td>\n",
       "    </tr>\n",
       "    <tr>\n",
       "      <th>4</th>\n",
       "      <td>1675</td>\n",
       "      <td>NaN</td>\n",
       "      <td>NaN</td>\n",
       "      <td>NaN</td>\n",
       "      <td>0.0</td>\n",
       "      <td>NaN</td>\n",
       "      <td>NaN</td>\n",
       "      <td>0.007</td>\n",
       "      <td>NaN</td>\n",
       "      <td>NaN</td>\n",
       "      <td>0.007</td>\n",
       "    </tr>\n",
       "  </tbody>\n",
       "</table>\n",
       "</div>"
      ],
      "text/plain": [
       "   Unnamed: 0  Coal  Natural Gas  Petroleum  Total Fossil  Nuclear  \\\n",
       "0        1635   0.0          NaN        NaN           0.0      NaN   \n",
       "1        1645   NaN          NaN        NaN           0.0      NaN   \n",
       "2        1655   NaN          NaN        NaN           0.0      NaN   \n",
       "3        1665   NaN          NaN        NaN           0.0      NaN   \n",
       "4        1675   NaN          NaN        NaN           0.0      NaN   \n",
       "\n",
       "   Hydropower  Wood/biomass  Solar  Wind  Total Renewable Energy  \n",
       "0         NaN           NaN    NaN   NaN                   0.000  \n",
       "1         NaN         0.001    NaN   NaN                   0.001  \n",
       "2         NaN         0.002    NaN   NaN                   0.002  \n",
       "3         NaN         0.005    NaN   NaN                   0.005  \n",
       "4         NaN         0.007    NaN   NaN                   0.007  "
      ]
     },
     "execution_count": 3,
     "metadata": {},
     "output_type": "execute_result"
    }
   ],
   "source": [
    "df_data.head()"
   ]
  },
  {
   "cell_type": "markdown",
   "metadata": {},
   "source": [
    "To gain general information on the dataframe, use ``info()``."
   ]
  },
  {
   "cell_type": "code",
   "execution_count": 4,
   "metadata": {},
   "outputs": [
    {
     "name": "stdout",
     "output_type": "stream",
     "text": [
      "<class 'pandas.core.frame.DataFrame'>\n",
      "RangeIndex: 112 entries, 0 to 111\n",
      "Data columns (total 11 columns):\n",
      "Unnamed: 0                112 non-null int64\n",
      "Coal                      91 non-null float64\n",
      "Natural Gas               83 non-null float64\n",
      "Petroleum                 88 non-null float64\n",
      "Total Fossil              112 non-null float64\n",
      "Nuclear                   62 non-null float64\n",
      "Hydropower                82 non-null float64\n",
      "Wood/biomass              111 non-null float64\n",
      "Solar                     35 non-null float64\n",
      "Wind                      36 non-null float64\n",
      "Total Renewable Energy    112 non-null float64\n",
      "dtypes: float64(10), int64(1)\n",
      "memory usage: 9.7 KB\n"
     ]
    }
   ],
   "source": [
    "df_data.info()"
   ]
  },
  {
   "cell_type": "markdown",
   "metadata": {},
   "source": [
    "From the information above, we can see there are 112 rows (entries), and each column is a fuel type. The first column, which should be the year, is missing a column name (since the cell is empty in the CSV file). We can rename the column in the dataframe, without having to edit the CSV file."
   ]
  },
  {
   "cell_type": "markdown",
   "metadata": {},
   "source": [
    "### Rename column"
   ]
  },
  {
   "cell_type": "markdown",
   "metadata": {},
   "source": [
    "To rename a column, use the ``rename`` function, and specify that we're trying to rename columns. If the column you want to rename already has an existing name, you can specify the original column name. However, in our case, the column itself is *unnamed*. Thus, we're going to use a number index to specify the column. In Python, the index number starts at **zero** (instead of 1). So, the first column in the CSV file corresponds to the 0 indexed column. We can specify that column index and choose to rename it to \"Year\"."
   ]
  },
  {
   "cell_type": "code",
   "execution_count": 5,
   "metadata": {},
   "outputs": [],
   "source": [
    "df_data = df_data.rename(columns = { df_data.columns[0]: \"Year\" })"
   ]
  },
  {
   "cell_type": "markdown",
   "metadata": {},
   "source": [
    "Let's take a look at the head of the dataframe again:"
   ]
  },
  {
   "cell_type": "code",
   "execution_count": 6,
   "metadata": {},
   "outputs": [
    {
     "data": {
      "text/html": [
       "<div>\n",
       "<style scoped>\n",
       "    .dataframe tbody tr th:only-of-type {\n",
       "        vertical-align: middle;\n",
       "    }\n",
       "\n",
       "    .dataframe tbody tr th {\n",
       "        vertical-align: top;\n",
       "    }\n",
       "\n",
       "    .dataframe thead th {\n",
       "        text-align: right;\n",
       "    }\n",
       "</style>\n",
       "<table border=\"1\" class=\"dataframe\">\n",
       "  <thead>\n",
       "    <tr style=\"text-align: right;\">\n",
       "      <th></th>\n",
       "      <th>Year</th>\n",
       "      <th>Coal</th>\n",
       "      <th>Natural Gas</th>\n",
       "      <th>Petroleum</th>\n",
       "      <th>Total Fossil</th>\n",
       "      <th>Nuclear</th>\n",
       "      <th>Hydropower</th>\n",
       "      <th>Wood/biomass</th>\n",
       "      <th>Solar</th>\n",
       "      <th>Wind</th>\n",
       "      <th>Total Renewable Energy</th>\n",
       "    </tr>\n",
       "  </thead>\n",
       "  <tbody>\n",
       "    <tr>\n",
       "      <th>0</th>\n",
       "      <td>1635</td>\n",
       "      <td>0.0</td>\n",
       "      <td>NaN</td>\n",
       "      <td>NaN</td>\n",
       "      <td>0.0</td>\n",
       "      <td>NaN</td>\n",
       "      <td>NaN</td>\n",
       "      <td>NaN</td>\n",
       "      <td>NaN</td>\n",
       "      <td>NaN</td>\n",
       "      <td>0.000</td>\n",
       "    </tr>\n",
       "    <tr>\n",
       "      <th>1</th>\n",
       "      <td>1645</td>\n",
       "      <td>NaN</td>\n",
       "      <td>NaN</td>\n",
       "      <td>NaN</td>\n",
       "      <td>0.0</td>\n",
       "      <td>NaN</td>\n",
       "      <td>NaN</td>\n",
       "      <td>0.001</td>\n",
       "      <td>NaN</td>\n",
       "      <td>NaN</td>\n",
       "      <td>0.001</td>\n",
       "    </tr>\n",
       "    <tr>\n",
       "      <th>2</th>\n",
       "      <td>1655</td>\n",
       "      <td>NaN</td>\n",
       "      <td>NaN</td>\n",
       "      <td>NaN</td>\n",
       "      <td>0.0</td>\n",
       "      <td>NaN</td>\n",
       "      <td>NaN</td>\n",
       "      <td>0.002</td>\n",
       "      <td>NaN</td>\n",
       "      <td>NaN</td>\n",
       "      <td>0.002</td>\n",
       "    </tr>\n",
       "    <tr>\n",
       "      <th>3</th>\n",
       "      <td>1665</td>\n",
       "      <td>NaN</td>\n",
       "      <td>NaN</td>\n",
       "      <td>NaN</td>\n",
       "      <td>0.0</td>\n",
       "      <td>NaN</td>\n",
       "      <td>NaN</td>\n",
       "      <td>0.005</td>\n",
       "      <td>NaN</td>\n",
       "      <td>NaN</td>\n",
       "      <td>0.005</td>\n",
       "    </tr>\n",
       "    <tr>\n",
       "      <th>4</th>\n",
       "      <td>1675</td>\n",
       "      <td>NaN</td>\n",
       "      <td>NaN</td>\n",
       "      <td>NaN</td>\n",
       "      <td>0.0</td>\n",
       "      <td>NaN</td>\n",
       "      <td>NaN</td>\n",
       "      <td>0.007</td>\n",
       "      <td>NaN</td>\n",
       "      <td>NaN</td>\n",
       "      <td>0.007</td>\n",
       "    </tr>\n",
       "  </tbody>\n",
       "</table>\n",
       "</div>"
      ],
      "text/plain": [
       "   Year  Coal  Natural Gas  Petroleum  Total Fossil  Nuclear  Hydropower  \\\n",
       "0  1635   0.0          NaN        NaN           0.0      NaN         NaN   \n",
       "1  1645   NaN          NaN        NaN           0.0      NaN         NaN   \n",
       "2  1655   NaN          NaN        NaN           0.0      NaN         NaN   \n",
       "3  1665   NaN          NaN        NaN           0.0      NaN         NaN   \n",
       "4  1675   NaN          NaN        NaN           0.0      NaN         NaN   \n",
       "\n",
       "   Wood/biomass  Solar  Wind  Total Renewable Energy  \n",
       "0           NaN    NaN   NaN                   0.000  \n",
       "1         0.001    NaN   NaN                   0.001  \n",
       "2         0.002    NaN   NaN                   0.002  \n",
       "3         0.005    NaN   NaN                   0.005  \n",
       "4         0.007    NaN   NaN                   0.007  "
      ]
     },
     "execution_count": 6,
     "metadata": {},
     "output_type": "execute_result"
    }
   ],
   "source": [
    "df_data.head()"
   ]
  },
  {
   "cell_type": "markdown",
   "metadata": {},
   "source": [
    "## Fill NAs"
   ]
  },
  {
   "cell_type": "markdown",
   "metadata": {},
   "source": [
    "We can see from the dataframe that there are a lot of empty values, especially in the earlier years. Pandas has converted the empty cells in the CSV to NaN (null) values.\n",
    "\n",
    "For our plot, we need to replace the NA values. In our case, we're going to replace all incidences of NaN with zero (0). While this assumption is okay for this analysis, please note that it's not always technically correct to simply replace NaNs with zeroes. Use the ``fillna`` function, in which you can specify what the replacement value you want is."
   ]
  },
  {
   "cell_type": "markdown",
   "metadata": {},
   "source": [
    "### Fill NAs for specific column"
   ]
  },
  {
   "cell_type": "markdown",
   "metadata": {},
   "source": [
    "If you want to fill NaN values one column at a time, you can specify the column you want to apply the function on. As an example, let's say we want to replace the NaNs in the Natural Gas column with zeroes."
   ]
  },
  {
   "cell_type": "code",
   "execution_count": 7,
   "metadata": {},
   "outputs": [],
   "source": [
    "df_data['Natural Gas'] = df_data['Natural Gas'].fillna(0)"
   ]
  },
  {
   "cell_type": "code",
   "execution_count": 8,
   "metadata": {},
   "outputs": [
    {
     "data": {
      "text/html": [
       "<div>\n",
       "<style scoped>\n",
       "    .dataframe tbody tr th:only-of-type {\n",
       "        vertical-align: middle;\n",
       "    }\n",
       "\n",
       "    .dataframe tbody tr th {\n",
       "        vertical-align: top;\n",
       "    }\n",
       "\n",
       "    .dataframe thead th {\n",
       "        text-align: right;\n",
       "    }\n",
       "</style>\n",
       "<table border=\"1\" class=\"dataframe\">\n",
       "  <thead>\n",
       "    <tr style=\"text-align: right;\">\n",
       "      <th></th>\n",
       "      <th>Year</th>\n",
       "      <th>Coal</th>\n",
       "      <th>Natural Gas</th>\n",
       "      <th>Petroleum</th>\n",
       "      <th>Total Fossil</th>\n",
       "      <th>Nuclear</th>\n",
       "      <th>Hydropower</th>\n",
       "      <th>Wood/biomass</th>\n",
       "      <th>Solar</th>\n",
       "      <th>Wind</th>\n",
       "      <th>Total Renewable Energy</th>\n",
       "    </tr>\n",
       "  </thead>\n",
       "  <tbody>\n",
       "    <tr>\n",
       "      <th>0</th>\n",
       "      <td>1635</td>\n",
       "      <td>0.0</td>\n",
       "      <td>0.0</td>\n",
       "      <td>NaN</td>\n",
       "      <td>0.0</td>\n",
       "      <td>NaN</td>\n",
       "      <td>NaN</td>\n",
       "      <td>NaN</td>\n",
       "      <td>NaN</td>\n",
       "      <td>NaN</td>\n",
       "      <td>0.000</td>\n",
       "    </tr>\n",
       "    <tr>\n",
       "      <th>1</th>\n",
       "      <td>1645</td>\n",
       "      <td>NaN</td>\n",
       "      <td>0.0</td>\n",
       "      <td>NaN</td>\n",
       "      <td>0.0</td>\n",
       "      <td>NaN</td>\n",
       "      <td>NaN</td>\n",
       "      <td>0.001</td>\n",
       "      <td>NaN</td>\n",
       "      <td>NaN</td>\n",
       "      <td>0.001</td>\n",
       "    </tr>\n",
       "    <tr>\n",
       "      <th>2</th>\n",
       "      <td>1655</td>\n",
       "      <td>NaN</td>\n",
       "      <td>0.0</td>\n",
       "      <td>NaN</td>\n",
       "      <td>0.0</td>\n",
       "      <td>NaN</td>\n",
       "      <td>NaN</td>\n",
       "      <td>0.002</td>\n",
       "      <td>NaN</td>\n",
       "      <td>NaN</td>\n",
       "      <td>0.002</td>\n",
       "    </tr>\n",
       "    <tr>\n",
       "      <th>3</th>\n",
       "      <td>1665</td>\n",
       "      <td>NaN</td>\n",
       "      <td>0.0</td>\n",
       "      <td>NaN</td>\n",
       "      <td>0.0</td>\n",
       "      <td>NaN</td>\n",
       "      <td>NaN</td>\n",
       "      <td>0.005</td>\n",
       "      <td>NaN</td>\n",
       "      <td>NaN</td>\n",
       "      <td>0.005</td>\n",
       "    </tr>\n",
       "    <tr>\n",
       "      <th>4</th>\n",
       "      <td>1675</td>\n",
       "      <td>NaN</td>\n",
       "      <td>0.0</td>\n",
       "      <td>NaN</td>\n",
       "      <td>0.0</td>\n",
       "      <td>NaN</td>\n",
       "      <td>NaN</td>\n",
       "      <td>0.007</td>\n",
       "      <td>NaN</td>\n",
       "      <td>NaN</td>\n",
       "      <td>0.007</td>\n",
       "    </tr>\n",
       "  </tbody>\n",
       "</table>\n",
       "</div>"
      ],
      "text/plain": [
       "   Year  Coal  Natural Gas  Petroleum  Total Fossil  Nuclear  Hydropower  \\\n",
       "0  1635   0.0          0.0        NaN           0.0      NaN         NaN   \n",
       "1  1645   NaN          0.0        NaN           0.0      NaN         NaN   \n",
       "2  1655   NaN          0.0        NaN           0.0      NaN         NaN   \n",
       "3  1665   NaN          0.0        NaN           0.0      NaN         NaN   \n",
       "4  1675   NaN          0.0        NaN           0.0      NaN         NaN   \n",
       "\n",
       "   Wood/biomass  Solar  Wind  Total Renewable Energy  \n",
       "0           NaN    NaN   NaN                   0.000  \n",
       "1         0.001    NaN   NaN                   0.001  \n",
       "2         0.002    NaN   NaN                   0.002  \n",
       "3         0.005    NaN   NaN                   0.005  \n",
       "4         0.007    NaN   NaN                   0.007  "
      ]
     },
     "execution_count": 8,
     "metadata": {},
     "output_type": "execute_result"
    }
   ],
   "source": [
    "df_data.head()"
   ]
  },
  {
   "cell_type": "markdown",
   "metadata": {},
   "source": [
    "### Fill NAs for entire dataframe"
   ]
  },
  {
   "cell_type": "markdown",
   "metadata": {},
   "source": [
    "It's going to be annoying doing that for every column. Let's instead replace every NaN in the entire dataframe:"
   ]
  },
  {
   "cell_type": "code",
   "execution_count": 9,
   "metadata": {},
   "outputs": [],
   "source": [
    "df_data = df_data.fillna(0)"
   ]
  },
  {
   "cell_type": "markdown",
   "metadata": {},
   "source": [
    "## Create new column for sum of non-hydro renewables"
   ]
  },
  {
   "cell_type": "markdown",
   "metadata": {},
   "source": [
    "The assignment specifies that there should be an \"Other Rewnewables\" column, which would be separate from Hydropower. The \"Other Renewables\" column should be the sum of solar and wind energy. Since such a column does not exist in the dataframe, we can create a new dataframe that is the sum of the Solar and Wind columns."
   ]
  },
  {
   "cell_type": "code",
   "execution_count": 10,
   "metadata": {},
   "outputs": [],
   "source": [
    "df_data['Other Renewables'] = df_data['Solar'] + df_data['Wind']"
   ]
  },
  {
   "cell_type": "code",
   "execution_count": 11,
   "metadata": {},
   "outputs": [
    {
     "data": {
      "text/html": [
       "<div>\n",
       "<style scoped>\n",
       "    .dataframe tbody tr th:only-of-type {\n",
       "        vertical-align: middle;\n",
       "    }\n",
       "\n",
       "    .dataframe tbody tr th {\n",
       "        vertical-align: top;\n",
       "    }\n",
       "\n",
       "    .dataframe thead th {\n",
       "        text-align: right;\n",
       "    }\n",
       "</style>\n",
       "<table border=\"1\" class=\"dataframe\">\n",
       "  <thead>\n",
       "    <tr style=\"text-align: right;\">\n",
       "      <th></th>\n",
       "      <th>Year</th>\n",
       "      <th>Coal</th>\n",
       "      <th>Natural Gas</th>\n",
       "      <th>Petroleum</th>\n",
       "      <th>Total Fossil</th>\n",
       "      <th>Nuclear</th>\n",
       "      <th>Hydropower</th>\n",
       "      <th>Wood/biomass</th>\n",
       "      <th>Solar</th>\n",
       "      <th>Wind</th>\n",
       "      <th>Total Renewable Energy</th>\n",
       "      <th>Other Renewables</th>\n",
       "    </tr>\n",
       "  </thead>\n",
       "  <tbody>\n",
       "    <tr>\n",
       "      <th>0</th>\n",
       "      <td>1635</td>\n",
       "      <td>0.0</td>\n",
       "      <td>0.0</td>\n",
       "      <td>0.0</td>\n",
       "      <td>0.0</td>\n",
       "      <td>0.0</td>\n",
       "      <td>0.0</td>\n",
       "      <td>0.000</td>\n",
       "      <td>0.0</td>\n",
       "      <td>0.0</td>\n",
       "      <td>0.000</td>\n",
       "      <td>0.0</td>\n",
       "    </tr>\n",
       "    <tr>\n",
       "      <th>1</th>\n",
       "      <td>1645</td>\n",
       "      <td>0.0</td>\n",
       "      <td>0.0</td>\n",
       "      <td>0.0</td>\n",
       "      <td>0.0</td>\n",
       "      <td>0.0</td>\n",
       "      <td>0.0</td>\n",
       "      <td>0.001</td>\n",
       "      <td>0.0</td>\n",
       "      <td>0.0</td>\n",
       "      <td>0.001</td>\n",
       "      <td>0.0</td>\n",
       "    </tr>\n",
       "    <tr>\n",
       "      <th>2</th>\n",
       "      <td>1655</td>\n",
       "      <td>0.0</td>\n",
       "      <td>0.0</td>\n",
       "      <td>0.0</td>\n",
       "      <td>0.0</td>\n",
       "      <td>0.0</td>\n",
       "      <td>0.0</td>\n",
       "      <td>0.002</td>\n",
       "      <td>0.0</td>\n",
       "      <td>0.0</td>\n",
       "      <td>0.002</td>\n",
       "      <td>0.0</td>\n",
       "    </tr>\n",
       "    <tr>\n",
       "      <th>3</th>\n",
       "      <td>1665</td>\n",
       "      <td>0.0</td>\n",
       "      <td>0.0</td>\n",
       "      <td>0.0</td>\n",
       "      <td>0.0</td>\n",
       "      <td>0.0</td>\n",
       "      <td>0.0</td>\n",
       "      <td>0.005</td>\n",
       "      <td>0.0</td>\n",
       "      <td>0.0</td>\n",
       "      <td>0.005</td>\n",
       "      <td>0.0</td>\n",
       "    </tr>\n",
       "    <tr>\n",
       "      <th>4</th>\n",
       "      <td>1675</td>\n",
       "      <td>0.0</td>\n",
       "      <td>0.0</td>\n",
       "      <td>0.0</td>\n",
       "      <td>0.0</td>\n",
       "      <td>0.0</td>\n",
       "      <td>0.0</td>\n",
       "      <td>0.007</td>\n",
       "      <td>0.0</td>\n",
       "      <td>0.0</td>\n",
       "      <td>0.007</td>\n",
       "      <td>0.0</td>\n",
       "    </tr>\n",
       "  </tbody>\n",
       "</table>\n",
       "</div>"
      ],
      "text/plain": [
       "   Year  Coal  Natural Gas  Petroleum  Total Fossil  Nuclear  Hydropower  \\\n",
       "0  1635   0.0          0.0        0.0           0.0      0.0         0.0   \n",
       "1  1645   0.0          0.0        0.0           0.0      0.0         0.0   \n",
       "2  1655   0.0          0.0        0.0           0.0      0.0         0.0   \n",
       "3  1665   0.0          0.0        0.0           0.0      0.0         0.0   \n",
       "4  1675   0.0          0.0        0.0           0.0      0.0         0.0   \n",
       "\n",
       "   Wood/biomass  Solar  Wind  Total Renewable Energy  Other Renewables  \n",
       "0         0.000    0.0   0.0                   0.000               0.0  \n",
       "1         0.001    0.0   0.0                   0.001               0.0  \n",
       "2         0.002    0.0   0.0                   0.002               0.0  \n",
       "3         0.005    0.0   0.0                   0.005               0.0  \n",
       "4         0.007    0.0   0.0                   0.007               0.0  "
      ]
     },
     "execution_count": 11,
     "metadata": {},
     "output_type": "execute_result"
    }
   ],
   "source": [
    "df_data.head()"
   ]
  },
  {
   "cell_type": "markdown",
   "metadata": {},
   "source": [
    "Looking at the first few rows of the dataframe doesn't tell us much, since both solar and wind energy consumption were zero from 1635 to 1675. We can instead glance at the *last* five rows of the dataframe using ``tail()``."
   ]
  },
  {
   "cell_type": "code",
   "execution_count": 12,
   "metadata": {},
   "outputs": [
    {
     "data": {
      "text/html": [
       "<div>\n",
       "<style scoped>\n",
       "    .dataframe tbody tr th:only-of-type {\n",
       "        vertical-align: middle;\n",
       "    }\n",
       "\n",
       "    .dataframe tbody tr th {\n",
       "        vertical-align: top;\n",
       "    }\n",
       "\n",
       "    .dataframe thead th {\n",
       "        text-align: right;\n",
       "    }\n",
       "</style>\n",
       "<table border=\"1\" class=\"dataframe\">\n",
       "  <thead>\n",
       "    <tr style=\"text-align: right;\">\n",
       "      <th></th>\n",
       "      <th>Year</th>\n",
       "      <th>Coal</th>\n",
       "      <th>Natural Gas</th>\n",
       "      <th>Petroleum</th>\n",
       "      <th>Total Fossil</th>\n",
       "      <th>Nuclear</th>\n",
       "      <th>Hydropower</th>\n",
       "      <th>Wood/biomass</th>\n",
       "      <th>Solar</th>\n",
       "      <th>Wind</th>\n",
       "      <th>Total Renewable Energy</th>\n",
       "      <th>Other Renewables</th>\n",
       "    </tr>\n",
       "  </thead>\n",
       "  <tbody>\n",
       "    <tr>\n",
       "      <th>107</th>\n",
       "      <td>2014</td>\n",
       "      <td>17.997632</td>\n",
       "      <td>27.382833</td>\n",
       "      <td>34.763494</td>\n",
       "      <td>80.143959</td>\n",
       "      <td>8.337559</td>\n",
       "      <td>2.466577</td>\n",
       "      <td>4.994208</td>\n",
       "      <td>0.337412</td>\n",
       "      <td>1.727542</td>\n",
       "      <td>9.525739</td>\n",
       "      <td>2.064954</td>\n",
       "    </tr>\n",
       "    <tr>\n",
       "      <th>108</th>\n",
       "      <td>2015</td>\n",
       "      <td>15.548870</td>\n",
       "      <td>28.191095</td>\n",
       "      <td>35.477609</td>\n",
       "      <td>79.217574</td>\n",
       "      <td>8.336886</td>\n",
       "      <td>2.321177</td>\n",
       "      <td>4.983358</td>\n",
       "      <td>0.426621</td>\n",
       "      <td>1.777306</td>\n",
       "      <td>9.508462</td>\n",
       "      <td>2.203927</td>\n",
       "    </tr>\n",
       "    <tr>\n",
       "      <th>109</th>\n",
       "      <td>2016</td>\n",
       "      <td>14.225905</td>\n",
       "      <td>28.400352</td>\n",
       "      <td>35.816631</td>\n",
       "      <td>78.442888</td>\n",
       "      <td>8.426753</td>\n",
       "      <td>2.472442</td>\n",
       "      <td>5.020163</td>\n",
       "      <td>0.570008</td>\n",
       "      <td>2.095595</td>\n",
       "      <td>10.158208</td>\n",
       "      <td>2.665603</td>\n",
       "    </tr>\n",
       "    <tr>\n",
       "      <th>110</th>\n",
       "      <td>2017</td>\n",
       "      <td>13.837465</td>\n",
       "      <td>28.034233</td>\n",
       "      <td>36.173585</td>\n",
       "      <td>78.045283</td>\n",
       "      <td>8.418968</td>\n",
       "      <td>2.766969</td>\n",
       "      <td>5.084265</td>\n",
       "      <td>0.776888</td>\n",
       "      <td>2.342890</td>\n",
       "      <td>10.971012</td>\n",
       "      <td>3.119778</td>\n",
       "    </tr>\n",
       "    <tr>\n",
       "      <th>111</th>\n",
       "      <td>2018</td>\n",
       "      <td>13.241336</td>\n",
       "      <td>30.964810</td>\n",
       "      <td>36.945274</td>\n",
       "      <td>81.151420</td>\n",
       "      <td>8.441226</td>\n",
       "      <td>2.687652</td>\n",
       "      <td>5.127819</td>\n",
       "      <td>0.951353</td>\n",
       "      <td>2.533131</td>\n",
       "      <td>11.299955</td>\n",
       "      <td>3.484484</td>\n",
       "    </tr>\n",
       "  </tbody>\n",
       "</table>\n",
       "</div>"
      ],
      "text/plain": [
       "     Year       Coal  Natural Gas  Petroleum  Total Fossil   Nuclear  \\\n",
       "107  2014  17.997632    27.382833  34.763494     80.143959  8.337559   \n",
       "108  2015  15.548870    28.191095  35.477609     79.217574  8.336886   \n",
       "109  2016  14.225905    28.400352  35.816631     78.442888  8.426753   \n",
       "110  2017  13.837465    28.034233  36.173585     78.045283  8.418968   \n",
       "111  2018  13.241336    30.964810  36.945274     81.151420  8.441226   \n",
       "\n",
       "     Hydropower  Wood/biomass     Solar      Wind  Total Renewable Energy  \\\n",
       "107    2.466577      4.994208  0.337412  1.727542                9.525739   \n",
       "108    2.321177      4.983358  0.426621  1.777306                9.508462   \n",
       "109    2.472442      5.020163  0.570008  2.095595               10.158208   \n",
       "110    2.766969      5.084265  0.776888  2.342890               10.971012   \n",
       "111    2.687652      5.127819  0.951353  2.533131               11.299955   \n",
       "\n",
       "     Other Renewables  \n",
       "107          2.064954  \n",
       "108          2.203927  \n",
       "109          2.665603  \n",
       "110          3.119778  \n",
       "111          3.484484  "
      ]
     },
     "execution_count": 12,
     "metadata": {},
     "output_type": "execute_result"
    }
   ],
   "source": [
    "df_data.tail()"
   ]
  },
  {
   "cell_type": "markdown",
   "metadata": {},
   "source": [
    "We can check that for the very last row: 0.951353 (solar) + 2.533131 (wind) = 3.484484 (other renewables)."
   ]
  },
  {
   "cell_type": "markdown",
   "metadata": {},
   "source": [
    "## Transform data"
   ]
  },
  {
   "cell_type": "markdown",
   "metadata": {},
   "source": [
    "When plotting a time series of categorical data, it's often easiest to have your data in a \"long\" format instead of a \"wide\" format (like df_data). So, this next step will transform your data so that all the values for the different fuel types will be put into a single column. Another column labeled \"Fuel\" will specify the type of fuel."
   ]
  },
  {
   "cell_type": "code",
   "execution_count": 13,
   "metadata": {},
   "outputs": [],
   "source": [
    "df_long = pd.melt(df_data, \n",
    "                  id_vars = 'Year', \n",
    "                  value_vars = ['Coal', 'Natural Gas', 'Petroleum', \n",
    "                                'Nuclear', 'Hydropower', \n",
    "                                'Wood/biomass', 'Solar', 'Wind', \n",
    "                                'Other Renewables', 'Total Fossil', 'Total Renewable Energy'], \n",
    "                  var_name = 'Fuel', value_name = 'Value')"
   ]
  },
  {
   "cell_type": "code",
   "execution_count": 14,
   "metadata": {},
   "outputs": [
    {
     "data": {
      "text/html": [
       "<div>\n",
       "<style scoped>\n",
       "    .dataframe tbody tr th:only-of-type {\n",
       "        vertical-align: middle;\n",
       "    }\n",
       "\n",
       "    .dataframe tbody tr th {\n",
       "        vertical-align: top;\n",
       "    }\n",
       "\n",
       "    .dataframe thead th {\n",
       "        text-align: right;\n",
       "    }\n",
       "</style>\n",
       "<table border=\"1\" class=\"dataframe\">\n",
       "  <thead>\n",
       "    <tr style=\"text-align: right;\">\n",
       "      <th></th>\n",
       "      <th>Year</th>\n",
       "      <th>Fuel</th>\n",
       "      <th>Value</th>\n",
       "    </tr>\n",
       "  </thead>\n",
       "  <tbody>\n",
       "    <tr>\n",
       "      <th>0</th>\n",
       "      <td>1635</td>\n",
       "      <td>Coal</td>\n",
       "      <td>0.0</td>\n",
       "    </tr>\n",
       "    <tr>\n",
       "      <th>1</th>\n",
       "      <td>1645</td>\n",
       "      <td>Coal</td>\n",
       "      <td>0.0</td>\n",
       "    </tr>\n",
       "    <tr>\n",
       "      <th>2</th>\n",
       "      <td>1655</td>\n",
       "      <td>Coal</td>\n",
       "      <td>0.0</td>\n",
       "    </tr>\n",
       "    <tr>\n",
       "      <th>3</th>\n",
       "      <td>1665</td>\n",
       "      <td>Coal</td>\n",
       "      <td>0.0</td>\n",
       "    </tr>\n",
       "    <tr>\n",
       "      <th>4</th>\n",
       "      <td>1675</td>\n",
       "      <td>Coal</td>\n",
       "      <td>0.0</td>\n",
       "    </tr>\n",
       "  </tbody>\n",
       "</table>\n",
       "</div>"
      ],
      "text/plain": [
       "   Year  Fuel  Value\n",
       "0  1635  Coal    0.0\n",
       "1  1645  Coal    0.0\n",
       "2  1655  Coal    0.0\n",
       "3  1665  Coal    0.0\n",
       "4  1675  Coal    0.0"
      ]
     },
     "execution_count": 14,
     "metadata": {},
     "output_type": "execute_result"
    }
   ],
   "source": [
    "df_long.head()"
   ]
  },
  {
   "cell_type": "markdown",
   "metadata": {},
   "source": [
    "## Remove fuels"
   ]
  },
  {
   "cell_type": "markdown",
   "metadata": {},
   "source": [
    "There are some fuels in the dataframe we don't really need anymore, such as \"Total Fossil\", \"Total Renewable Energy\", \"Solar\", and \"Wind\". Let's make a new dataframe titled ``df_fuels`` without the fuels we don't need."
   ]
  },
  {
   "cell_type": "code",
   "execution_count": 15,
   "metadata": {},
   "outputs": [],
   "source": [
    "df_fuels = df_long[~df_long.Fuel.isin(['Total Fossil', 'Total Renewable Energy', 'Solar', 'Wind'])]"
   ]
  },
  {
   "cell_type": "markdown",
   "metadata": {},
   "source": [
    "# Line plot of fuel consumption by fuel"
   ]
  },
  {
   "cell_type": "markdown",
   "metadata": {},
   "source": [
    "## Import libraries"
   ]
  },
  {
   "cell_type": "code",
   "execution_count": 16,
   "metadata": {},
   "outputs": [],
   "source": [
    "import matplotlib\n",
    "import matplotlib.pyplot as plt\n",
    "import seaborn as sns; sns.set()"
   ]
  },
  {
   "cell_type": "markdown",
   "metadata": {},
   "source": [
    "### Preliminary plot"
   ]
  },
  {
   "cell_type": "code",
   "execution_count": 17,
   "metadata": {},
   "outputs": [
    {
     "data": {
      "image/png": "[encoded data removed]",
      "text/plain": [
       "<Figure size 432x288 with 1 Axes>"
      ]
     },
     "metadata": {
      "needs_background": "light"
     },
     "output_type": "display_data"
    }
   ],
   "source": [
    "# create generic line plot\n",
    "sns.lineplot(data = df_fuels, x = \"Year\", y = \"Value\", hue = \"Fuel\");"
   ]
  },
  {
   "cell_type": "markdown",
   "metadata": {},
   "source": [
    "### Specify fuel type colors"
   ]
  },
  {
   "cell_type": "code",
   "execution_count": 18,
   "metadata": {},
   "outputs": [
    {
     "data": {
      "image/png": "[encoded data removed]",
      "text/plain": [
       "<Figure size 432x288 with 1 Axes>"
      ]
     },
     "metadata": {
      "needs_background": "light"
     },
     "output_type": "display_data"
    }
   ],
   "source": [
    "# create line plot with specified line colors\n",
    "sns.lineplot(data = df_fuels, x = \"Year\", y = \"Value\", hue = \"Fuel\",\n",
    "                 palette = {\"Petroleum\": \"orange\",\n",
    "                             \"Natural Gas\": \"red\",\n",
    "                             \"Coal\": \"black\",\n",
    "                             \"Nuclear\": \"seagreen\",\n",
    "                             \"Hydropower\": \"steelblue\",\n",
    "                             \"Wood/biomass\": \"brown\",\n",
    "                             \"Other Renewables\": \"skyblue\"});"
   ]
  },
  {
   "cell_type": "markdown",
   "metadata": {},
   "source": [
    "### Adjustments to labels and aesthetics of plot"
   ]
  },
  {
   "cell_type": "markdown",
   "metadata": {},
   "source": [
    "While the plot above does technically display the information we want, it's not that pretty to look at. Let's change up the plot axes and aesthetics a bit."
   ]
  },
  {
   "cell_type": "code",
   "execution_count": 19,
   "metadata": {},
   "outputs": [],
   "source": [
    "# set style of plot to a white grid\n",
    "sns.set_style(\"whitegrid\")"
   ]
  },
  {
   "cell_type": "code",
   "execution_count": 20,
   "metadata": {},
   "outputs": [],
   "source": [
    "# change font of all axes and labels to Arial Narrow\n",
    "plt.rcParams[\"font.family\"] = \"Arial Narrow\""
   ]
  },
  {
   "cell_type": "code",
   "execution_count": 21,
   "metadata": {},
   "outputs": [
    {
     "data": {
      "image/png": "[encoded data removed]",
      "text/plain": [
       "<Figure size 590.4x316.8 with 1 Axes>"
      ]
     },
     "metadata": {},
     "output_type": "display_data"
    }
   ],
   "source": [
    "# create new figure, with dimensions of width = 8.2 inches and height = 4.4 inches\n",
    "fig, ax = plt.subplots(figsize = (8.2,4.4))\n",
    "\n",
    "# create line plot with specified line colors\n",
    "p = sns.lineplot(data = df_fuels, x = \"Year\", y = \"Value\", hue = \"Fuel\",\n",
    "                 palette = {\"Petroleum\": \"orange\",\n",
    "                            \"Natural Gas\": \"red\",\n",
    "                            \"Coal\": \"black\",\n",
    "                            \"Nuclear\": \"seagreen\",\n",
    "                            \"Hydropower\": \"steelblue\",\n",
    "                            \"Wood/biomass\": \"brown\",\n",
    "                            \"Other Renewables\": \"skyblue\"});\n",
    "\n",
    "# manually set the limits for the x-axis and y-axis\n",
    "ax.set_xlim([1635,2017]);\n",
    "ax.set_ylim([0,45]);\n",
    "\n",
    "# set the title of the plot, as well as the font size and font weight\n",
    "ax.set_title('US Primary Energy Consumption by Source (1635 – 2017)', y = 1.1, fontsize = 20, fontweight='bold', loc='left');\n",
    "\n",
    "# make the x-axis and y-axis labels blank\n",
    "ax.set_xlabel('');\n",
    "ax.set_ylabel('');\n",
    "\n",
    "# manually add a subtitle below the title\n",
    "# the location of the text is coordinate based, so it will correspond with a data point\n",
    "# place the text at Year = 1635 and Value = 47\n",
    "ax.text(1635, 47, 'Quadrillion British Thermal Units', horizontalalignment='left', fontsize = 15);\n",
    "\n",
    "# remove vertical (x-axis) grid lines\n",
    "ax.xaxis.grid(which=\"major\", color='r', linestyle='-', linewidth=0);\n",
    "\n",
    "# keep horizontal (y-axis) grid lines, but make the color grey and width 0.3\n",
    "ax.yaxis.grid(which=\"major\", color='grey', linestyle='-', linewidth=0.3);\n",
    "\n",
    "# remove the borders of the plot\n",
    "ax.spines['right'].set_visible(False)\n",
    "ax.spines['top'].set_visible(False)\n",
    "ax.spines['bottom'].set_visible(False)\n",
    "ax.spines['left'].set_visible(False)\n",
    "\n",
    "# move the legend to the outside of the plot (right) and remove the background color of the legend\n",
    "ax.legend(loc='center left', bbox_to_anchor=(1, 0.5), frameon=False);\n",
    "\n",
    "# add footnote on the bottom right of the plot\n",
    "# the position of a figtext is a float value (instead of data coordinates like a regular text above)\n",
    "# thus, the values are all relative to the plot size. you can play around with the placements, but the selection below works as such:\n",
    "# the x = 0.9 and horizontalalignment = 'right' places the right end of the figtext at where the x axis ends\n",
    "# the y = 0 places the figtext directly below the bottom of the a-xis\n",
    "plt.figtext(0.9, 0, 'Plot created by Kelly Sanders on September 9, 2019', horizontalalignment='right', fontstyle='italic');"
   ]
  },
  {
   "cell_type": "markdown",
   "metadata": {},
   "source": [
    "### Save plot as image file"
   ]
  },
  {
   "cell_type": "code",
   "execution_count": 22,
   "metadata": {},
   "outputs": [],
   "source": [
    "# save figure (be sure to change the name of the file to reflect your own name)\n",
    "fig.savefig(\"Figure_Fuel-Consumption-by-Source_KTSanders.png\", dpi = 600, bbox_inches='tight')"
   ]
  },
  {
   "cell_type": "markdown",
   "metadata": {},
   "source": [
    "## Analyzing maximum values"
   ]
  },
  {
   "cell_type": "code",
   "execution_count": 23,
   "metadata": {},
   "outputs": [
    {
     "data": {
      "text/html": [
       "<div>\n",
       "<style scoped>\n",
       "    .dataframe tbody tr th:only-of-type {\n",
       "        vertical-align: middle;\n",
       "    }\n",
       "\n",
       "    .dataframe tbody tr th {\n",
       "        vertical-align: top;\n",
       "    }\n",
       "\n",
       "    .dataframe thead th {\n",
       "        text-align: right;\n",
       "    }\n",
       "</style>\n",
       "<table border=\"1\" class=\"dataframe\">\n",
       "  <thead>\n",
       "    <tr style=\"text-align: right;\">\n",
       "      <th></th>\n",
       "      <th>Year</th>\n",
       "      <th>Fuel</th>\n",
       "      <th>Value</th>\n",
       "    </tr>\n",
       "  </thead>\n",
       "  <tbody>\n",
       "    <tr>\n",
       "      <th>0</th>\n",
       "      <td>1635</td>\n",
       "      <td>Coal</td>\n",
       "      <td>0.0</td>\n",
       "    </tr>\n",
       "    <tr>\n",
       "      <th>1</th>\n",
       "      <td>1645</td>\n",
       "      <td>Coal</td>\n",
       "      <td>0.0</td>\n",
       "    </tr>\n",
       "    <tr>\n",
       "      <th>2</th>\n",
       "      <td>1655</td>\n",
       "      <td>Coal</td>\n",
       "      <td>0.0</td>\n",
       "    </tr>\n",
       "    <tr>\n",
       "      <th>3</th>\n",
       "      <td>1665</td>\n",
       "      <td>Coal</td>\n",
       "      <td>0.0</td>\n",
       "    </tr>\n",
       "    <tr>\n",
       "      <th>4</th>\n",
       "      <td>1675</td>\n",
       "      <td>Coal</td>\n",
       "      <td>0.0</td>\n",
       "    </tr>\n",
       "  </tbody>\n",
       "</table>\n",
       "</div>"
      ],
      "text/plain": [
       "   Year  Fuel  Value\n",
       "0  1635  Coal    0.0\n",
       "1  1645  Coal    0.0\n",
       "2  1655  Coal    0.0\n",
       "3  1665  Coal    0.0\n",
       "4  1675  Coal    0.0"
      ]
     },
     "execution_count": 23,
     "metadata": {},
     "output_type": "execute_result"
    }
   ],
   "source": [
    "df_fuels.head()"
   ]
  },
  {
   "cell_type": "markdown",
   "metadata": {},
   "source": [
    "What is the maximum amount of primary fuel consumed out of all of the years?"
   ]
  },
  {
   "cell_type": "code",
   "execution_count": 24,
   "metadata": {},
   "outputs": [
    {
     "data": {
      "text/html": [
       "<div>\n",
       "<style scoped>\n",
       "    .dataframe tbody tr th:only-of-type {\n",
       "        vertical-align: middle;\n",
       "    }\n",
       "\n",
       "    .dataframe tbody tr th {\n",
       "        vertical-align: top;\n",
       "    }\n",
       "\n",
       "    .dataframe thead th {\n",
       "        text-align: right;\n",
       "    }\n",
       "</style>\n",
       "<table border=\"1\" class=\"dataframe\">\n",
       "  <thead>\n",
       "    <tr style=\"text-align: right;\">\n",
       "      <th></th>\n",
       "      <th>Year</th>\n",
       "      <th>Fuel</th>\n",
       "      <th>Value</th>\n",
       "    </tr>\n",
       "  </thead>\n",
       "  <tbody>\n",
       "    <tr>\n",
       "      <th>322</th>\n",
       "      <td>2005</td>\n",
       "      <td>Petroleum</td>\n",
       "      <td>40.282775</td>\n",
       "    </tr>\n",
       "  </tbody>\n",
       "</table>\n",
       "</div>"
      ],
      "text/plain": [
       "     Year       Fuel      Value\n",
       "322  2005  Petroleum  40.282775"
      ]
     },
     "execution_count": 24,
     "metadata": {},
     "output_type": "execute_result"
    }
   ],
   "source": [
    "df_fuels[df_fuels['Value'] == df_fuels['Value'].max()]"
   ]
  },
  {
   "cell_type": "markdown",
   "metadata": {},
   "source": [
    "The maximum amount of a specific fuel consumed was petroleum in the year 2005."
   ]
  },
  {
   "cell_type": "markdown",
   "metadata": {},
   "source": [
    "But what if we want to find the maximum of each fuel type instead? We can group the dataframe by \"Fuel\" to find the maximum of each group."
   ]
  },
  {
   "cell_type": "code",
   "execution_count": 25,
   "metadata": {},
   "outputs": [
    {
     "data": {
      "text/html": [
       "<div>\n",
       "<style scoped>\n",
       "    .dataframe tbody tr th:only-of-type {\n",
       "        vertical-align: middle;\n",
       "    }\n",
       "\n",
       "    .dataframe tbody tr th {\n",
       "        vertical-align: top;\n",
       "    }\n",
       "\n",
       "    .dataframe thead th {\n",
       "        text-align: right;\n",
       "    }\n",
       "</style>\n",
       "<table border=\"1\" class=\"dataframe\">\n",
       "  <thead>\n",
       "    <tr style=\"text-align: right;\">\n",
       "      <th></th>\n",
       "      <th>Fuel</th>\n",
       "      <th>Value</th>\n",
       "    </tr>\n",
       "  </thead>\n",
       "  <tbody>\n",
       "    <tr>\n",
       "      <th>0</th>\n",
       "      <td>Coal</td>\n",
       "      <td>22.796543</td>\n",
       "    </tr>\n",
       "    <tr>\n",
       "      <th>1</th>\n",
       "      <td>Hydropower</td>\n",
       "      <td>3.640458</td>\n",
       "    </tr>\n",
       "    <tr>\n",
       "      <th>2</th>\n",
       "      <td>Natural Gas</td>\n",
       "      <td>30.964810</td>\n",
       "    </tr>\n",
       "    <tr>\n",
       "      <th>3</th>\n",
       "      <td>Nuclear</td>\n",
       "      <td>8.458589</td>\n",
       "    </tr>\n",
       "    <tr>\n",
       "      <th>4</th>\n",
       "      <td>Other Renewables</td>\n",
       "      <td>3.484484</td>\n",
       "    </tr>\n",
       "    <tr>\n",
       "      <th>5</th>\n",
       "      <td>Petroleum</td>\n",
       "      <td>40.282775</td>\n",
       "    </tr>\n",
       "    <tr>\n",
       "      <th>6</th>\n",
       "      <td>Wood/biomass</td>\n",
       "      <td>5.127819</td>\n",
       "    </tr>\n",
       "  </tbody>\n",
       "</table>\n",
       "</div>"
      ],
      "text/plain": [
       "               Fuel      Value\n",
       "0              Coal  22.796543\n",
       "1        Hydropower   3.640458\n",
       "2       Natural Gas  30.964810\n",
       "3           Nuclear   8.458589\n",
       "4  Other Renewables   3.484484\n",
       "5         Petroleum  40.282775\n",
       "6      Wood/biomass   5.127819"
      ]
     },
     "execution_count": 25,
     "metadata": {},
     "output_type": "execute_result"
    }
   ],
   "source": [
    "fuel_max = df_fuels.groupby('Fuel', as_index=False)['Value'].max()\n",
    "fuel_max"
   ]
  },
  {
   "cell_type": "markdown",
   "metadata": {},
   "source": [
    "From above, we can see what the maximum amount of fuel consumed for each fuel group. However, that doesn't tell us the corresponding year. That's because in the above code, we're just asking for the maximum of each fuel group. \n",
    "\n",
    "To get the year as well, use ``idmax`` to find the *row index* corresponding the maximum consumption for each fuel, then use the indices to with the dataframe to get the entire corresponding row (which includes the year)."
   ]
  },
  {
   "cell_type": "code",
   "execution_count": 26,
   "metadata": {},
   "outputs": [
    {
     "data": {
      "text/html": [
       "<div>\n",
       "<style scoped>\n",
       "    .dataframe tbody tr th:only-of-type {\n",
       "        vertical-align: middle;\n",
       "    }\n",
       "\n",
       "    .dataframe tbody tr th {\n",
       "        vertical-align: top;\n",
       "    }\n",
       "\n",
       "    .dataframe thead th {\n",
       "        text-align: right;\n",
       "    }\n",
       "</style>\n",
       "<table border=\"1\" class=\"dataframe\">\n",
       "  <thead>\n",
       "    <tr style=\"text-align: right;\">\n",
       "      <th></th>\n",
       "      <th>Year</th>\n",
       "      <th>Fuel</th>\n",
       "      <th>Value</th>\n",
       "    </tr>\n",
       "  </thead>\n",
       "  <tbody>\n",
       "    <tr>\n",
       "      <th>98</th>\n",
       "      <td>2005</td>\n",
       "      <td>Coal</td>\n",
       "      <td>22.796543</td>\n",
       "    </tr>\n",
       "    <tr>\n",
       "      <th>538</th>\n",
       "      <td>1997</td>\n",
       "      <td>Hydropower</td>\n",
       "      <td>3.640458</td>\n",
       "    </tr>\n",
       "    <tr>\n",
       "      <th>223</th>\n",
       "      <td>2018</td>\n",
       "      <td>Natural Gas</td>\n",
       "      <td>30.964810</td>\n",
       "    </tr>\n",
       "    <tr>\n",
       "      <th>436</th>\n",
       "      <td>2007</td>\n",
       "      <td>Nuclear</td>\n",
       "      <td>8.458589</td>\n",
       "    </tr>\n",
       "    <tr>\n",
       "      <th>1007</th>\n",
       "      <td>2018</td>\n",
       "      <td>Other Renewables</td>\n",
       "      <td>3.484484</td>\n",
       "    </tr>\n",
       "    <tr>\n",
       "      <th>322</th>\n",
       "      <td>2005</td>\n",
       "      <td>Petroleum</td>\n",
       "      <td>40.282775</td>\n",
       "    </tr>\n",
       "    <tr>\n",
       "      <th>671</th>\n",
       "      <td>2018</td>\n",
       "      <td>Wood/biomass</td>\n",
       "      <td>5.127819</td>\n",
       "    </tr>\n",
       "  </tbody>\n",
       "</table>\n",
       "</div>"
      ],
      "text/plain": [
       "      Year              Fuel      Value\n",
       "98    2005              Coal  22.796543\n",
       "538   1997        Hydropower   3.640458\n",
       "223   2018       Natural Gas  30.964810\n",
       "436   2007           Nuclear   8.458589\n",
       "1007  2018  Other Renewables   3.484484\n",
       "322   2005         Petroleum  40.282775\n",
       "671   2018      Wood/biomass   5.127819"
      ]
     },
     "execution_count": 26,
     "metadata": {},
     "output_type": "execute_result"
    }
   ],
   "source": [
    "df_fuels.loc[df_fuels.groupby(['Fuel'])['Value'].idxmax()]"
   ]
  },
  {
   "cell_type": "markdown",
   "metadata": {},
   "source": [
    "We can see that coal consumption peaked in 2005, whereas consumption of natural gas and non-hydro renewables peaked just last year in 2018."
   ]
  },
  {
   "cell_type": "markdown",
   "metadata": {},
   "source": [
    "## Analyzing the rate of change (pre-industrial revolution and post-industrial revolution)"
   ]
  },
  {
   "cell_type": "markdown",
   "metadata": {},
   "source": [
    "From the line plot, we can see that around the 1840s and 1850s, coal consumption increases greatly from zero to being the top fuel consumed for a period of time. This coincides with the Industrial Revolution, during which the steam engine was invented. Let's study the data more closely."
   ]
  },
  {
   "cell_type": "code",
   "execution_count": 27,
   "metadata": {},
   "outputs": [],
   "source": [
    "# import the numpy library\n",
    "import numpy as np"
   ]
  },
  {
   "cell_type": "markdown",
   "metadata": {},
   "source": [
    "Create an array of years from 1840 to 1900, for every 10 years."
   ]
  },
  {
   "cell_type": "code",
   "execution_count": 28,
   "metadata": {},
   "outputs": [
    {
     "name": "stdout",
     "output_type": "stream",
     "text": [
      "[1845 1855 1865 1875 1885 1895 1905]\n"
     ]
    }
   ],
   "source": [
    "years = np.arange(1845,1906,10)\n",
    "print(years)"
   ]
  },
  {
   "cell_type": "code",
   "execution_count": 29,
   "metadata": {},
   "outputs": [],
   "source": [
    "df_rev = df_fuels[df_fuels.Year.isin(years)]"
   ]
  },
  {
   "cell_type": "code",
   "execution_count": 30,
   "metadata": {},
   "outputs": [
    {
     "name": "stderr",
     "output_type": "stream",
     "text": [
      "/Users/MEAS/anaconda3/lib/python3.6/site-packages/ipykernel_launcher.py:1: SettingWithCopyWarning: \n",
      "A value is trying to be set on a copy of a slice from a DataFrame.\n",
      "Try using .loc[row_indexer,col_indexer] = value instead\n",
      "\n",
      "See the caveats in the documentation: http://pandas.pydata.org/pandas-docs/stable/indexing.html#indexing-view-versus-copy\n",
      "  \"\"\"Entry point for launching an IPython kernel.\n"
     ]
    }
   ],
   "source": [
    "df_rev['span'] = (df_rev['Year']-10).map(str) + '-' + (df_rev['Year']).map(str)"
   ]
  },
  {
   "cell_type": "code",
   "execution_count": 31,
   "metadata": {},
   "outputs": [
    {
     "data": {
      "text/html": [
       "<div>\n",
       "<style scoped>\n",
       "    .dataframe tbody tr th:only-of-type {\n",
       "        vertical-align: middle;\n",
       "    }\n",
       "\n",
       "    .dataframe tbody tr th {\n",
       "        vertical-align: top;\n",
       "    }\n",
       "\n",
       "    .dataframe thead th {\n",
       "        text-align: right;\n",
       "    }\n",
       "</style>\n",
       "<table border=\"1\" class=\"dataframe\">\n",
       "  <thead>\n",
       "    <tr style=\"text-align: right;\">\n",
       "      <th></th>\n",
       "      <th>Year</th>\n",
       "      <th>Fuel</th>\n",
       "      <th>Value</th>\n",
       "      <th>span</th>\n",
       "    </tr>\n",
       "  </thead>\n",
       "  <tbody>\n",
       "    <tr>\n",
       "      <th>21</th>\n",
       "      <td>1845</td>\n",
       "      <td>Coal</td>\n",
       "      <td>0.000</td>\n",
       "      <td>1835-1845</td>\n",
       "    </tr>\n",
       "    <tr>\n",
       "      <th>23</th>\n",
       "      <td>1855</td>\n",
       "      <td>Coal</td>\n",
       "      <td>0.421</td>\n",
       "      <td>1845-1855</td>\n",
       "    </tr>\n",
       "    <tr>\n",
       "      <th>25</th>\n",
       "      <td>1865</td>\n",
       "      <td>Coal</td>\n",
       "      <td>0.632</td>\n",
       "      <td>1855-1865</td>\n",
       "    </tr>\n",
       "    <tr>\n",
       "      <th>27</th>\n",
       "      <td>1875</td>\n",
       "      <td>Coal</td>\n",
       "      <td>1.440</td>\n",
       "      <td>1865-1875</td>\n",
       "    </tr>\n",
       "    <tr>\n",
       "      <th>29</th>\n",
       "      <td>1885</td>\n",
       "      <td>Coal</td>\n",
       "      <td>2.840</td>\n",
       "      <td>1875-1885</td>\n",
       "    </tr>\n",
       "  </tbody>\n",
       "</table>\n",
       "</div>"
      ],
      "text/plain": [
       "    Year  Fuel  Value       span\n",
       "21  1845  Coal  0.000  1835-1845\n",
       "23  1855  Coal  0.421  1845-1855\n",
       "25  1865  Coal  0.632  1855-1865\n",
       "27  1875  Coal  1.440  1865-1875\n",
       "29  1885  Coal  2.840  1875-1885"
      ]
     },
     "execution_count": 31,
     "metadata": {},
     "output_type": "execute_result"
    }
   ],
   "source": [
    "df_rev.head()"
   ]
  },
  {
   "cell_type": "code",
   "execution_count": 32,
   "metadata": {},
   "outputs": [
    {
     "name": "stderr",
     "output_type": "stream",
     "text": [
      "/Users/MEAS/anaconda3/lib/python3.6/site-packages/ipykernel_launcher.py:1: SettingWithCopyWarning: \n",
      "A value is trying to be set on a copy of a slice from a DataFrame.\n",
      "Try using .loc[row_indexer,col_indexer] = value instead\n",
      "\n",
      "See the caveats in the documentation: http://pandas.pydata.org/pandas-docs/stable/indexing.html#indexing-view-versus-copy\n",
      "  \"\"\"Entry point for launching an IPython kernel.\n",
      "/Users/MEAS/anaconda3/lib/python3.6/site-packages/ipykernel_launcher.py:2: SettingWithCopyWarning: \n",
      "A value is trying to be set on a copy of a slice from a DataFrame.\n",
      "Try using .loc[row_indexer,col_indexer] = value instead\n",
      "\n",
      "See the caveats in the documentation: http://pandas.pydata.org/pandas-docs/stable/indexing.html#indexing-view-versus-copy\n",
      "  \n"
     ]
    }
   ],
   "source": [
    "df_rev['diff'] = df_rev.groupby(['Fuel'])['Value'].transform(lambda x: x.diff())\n",
    "df_rev['perc_diff'] = df_rev.groupby(['Fuel'])['Value'].transform(lambda x: x.pct_change())"
   ]
  },
  {
   "cell_type": "markdown",
   "metadata": {},
   "source": [
    "Let's see how coal consumption changed over the years:"
   ]
  },
  {
   "cell_type": "code",
   "execution_count": 33,
   "metadata": {},
   "outputs": [
    {
     "data": {
      "text/html": [
       "<div>\n",
       "<style scoped>\n",
       "    .dataframe tbody tr th:only-of-type {\n",
       "        vertical-align: middle;\n",
       "    }\n",
       "\n",
       "    .dataframe tbody tr th {\n",
       "        vertical-align: top;\n",
       "    }\n",
       "\n",
       "    .dataframe thead th {\n",
       "        text-align: right;\n",
       "    }\n",
       "</style>\n",
       "<table border=\"1\" class=\"dataframe\">\n",
       "  <thead>\n",
       "    <tr style=\"text-align: right;\">\n",
       "      <th></th>\n",
       "      <th>Year</th>\n",
       "      <th>Fuel</th>\n",
       "      <th>Value</th>\n",
       "      <th>span</th>\n",
       "      <th>diff</th>\n",
       "      <th>perc_diff</th>\n",
       "    </tr>\n",
       "  </thead>\n",
       "  <tbody>\n",
       "    <tr>\n",
       "      <th>21</th>\n",
       "      <td>1845</td>\n",
       "      <td>Coal</td>\n",
       "      <td>0.000</td>\n",
       "      <td>1835-1845</td>\n",
       "      <td>NaN</td>\n",
       "      <td>NaN</td>\n",
       "    </tr>\n",
       "    <tr>\n",
       "      <th>23</th>\n",
       "      <td>1855</td>\n",
       "      <td>Coal</td>\n",
       "      <td>0.421</td>\n",
       "      <td>1845-1855</td>\n",
       "      <td>0.421</td>\n",
       "      <td>inf</td>\n",
       "    </tr>\n",
       "    <tr>\n",
       "      <th>25</th>\n",
       "      <td>1865</td>\n",
       "      <td>Coal</td>\n",
       "      <td>0.632</td>\n",
       "      <td>1855-1865</td>\n",
       "      <td>0.211</td>\n",
       "      <td>0.501188</td>\n",
       "    </tr>\n",
       "    <tr>\n",
       "      <th>27</th>\n",
       "      <td>1875</td>\n",
       "      <td>Coal</td>\n",
       "      <td>1.440</td>\n",
       "      <td>1865-1875</td>\n",
       "      <td>0.808</td>\n",
       "      <td>1.278481</td>\n",
       "    </tr>\n",
       "    <tr>\n",
       "      <th>29</th>\n",
       "      <td>1885</td>\n",
       "      <td>Coal</td>\n",
       "      <td>2.840</td>\n",
       "      <td>1875-1885</td>\n",
       "      <td>1.400</td>\n",
       "      <td>0.972222</td>\n",
       "    </tr>\n",
       "    <tr>\n",
       "      <th>31</th>\n",
       "      <td>1895</td>\n",
       "      <td>Coal</td>\n",
       "      <td>4.950</td>\n",
       "      <td>1885-1895</td>\n",
       "      <td>2.110</td>\n",
       "      <td>0.742958</td>\n",
       "    </tr>\n",
       "    <tr>\n",
       "      <th>33</th>\n",
       "      <td>1905</td>\n",
       "      <td>Coal</td>\n",
       "      <td>10.001</td>\n",
       "      <td>1895-1905</td>\n",
       "      <td>5.051</td>\n",
       "      <td>1.020404</td>\n",
       "    </tr>\n",
       "  </tbody>\n",
       "</table>\n",
       "</div>"
      ],
      "text/plain": [
       "    Year  Fuel   Value       span   diff  perc_diff\n",
       "21  1845  Coal   0.000  1835-1845    NaN        NaN\n",
       "23  1855  Coal   0.421  1845-1855  0.421        inf\n",
       "25  1865  Coal   0.632  1855-1865  0.211   0.501188\n",
       "27  1875  Coal   1.440  1865-1875  0.808   1.278481\n",
       "29  1885  Coal   2.840  1875-1885  1.400   0.972222\n",
       "31  1895  Coal   4.950  1885-1895  2.110   0.742958\n",
       "33  1905  Coal  10.001  1895-1905  5.051   1.020404"
      ]
     },
     "execution_count": 33,
     "metadata": {},
     "output_type": "execute_result"
    }
   ],
   "source": [
    "df_rev[df_rev['Fuel'] == 'Coal']"
   ]
  },
  {
   "cell_type": "markdown",
   "metadata": {},
   "source": [
    "What about wood/biomass consumption?"
   ]
  },
  {
   "cell_type": "code",
   "execution_count": 34,
   "metadata": {},
   "outputs": [
    {
     "data": {
      "text/html": [
       "<div>\n",
       "<style scoped>\n",
       "    .dataframe tbody tr th:only-of-type {\n",
       "        vertical-align: middle;\n",
       "    }\n",
       "\n",
       "    .dataframe tbody tr th {\n",
       "        vertical-align: top;\n",
       "    }\n",
       "\n",
       "    .dataframe thead th {\n",
       "        text-align: right;\n",
       "    }\n",
       "</style>\n",
       "<table border=\"1\" class=\"dataframe\">\n",
       "  <thead>\n",
       "    <tr style=\"text-align: right;\">\n",
       "      <th></th>\n",
       "      <th>Year</th>\n",
       "      <th>Fuel</th>\n",
       "      <th>Value</th>\n",
       "      <th>span</th>\n",
       "      <th>diff</th>\n",
       "      <th>perc_diff</th>\n",
       "    </tr>\n",
       "  </thead>\n",
       "  <tbody>\n",
       "    <tr>\n",
       "      <th>581</th>\n",
       "      <td>1845</td>\n",
       "      <td>Wood/biomass</td>\n",
       "      <td>1.757</td>\n",
       "      <td>1835-1845</td>\n",
       "      <td>NaN</td>\n",
       "      <td>NaN</td>\n",
       "    </tr>\n",
       "    <tr>\n",
       "      <th>583</th>\n",
       "      <td>1855</td>\n",
       "      <td>Wood/biomass</td>\n",
       "      <td>2.389</td>\n",
       "      <td>1845-1855</td>\n",
       "      <td>0.632</td>\n",
       "      <td>0.359704</td>\n",
       "    </tr>\n",
       "    <tr>\n",
       "      <th>585</th>\n",
       "      <td>1865</td>\n",
       "      <td>Wood/biomass</td>\n",
       "      <td>2.767</td>\n",
       "      <td>1855-1865</td>\n",
       "      <td>0.378</td>\n",
       "      <td>0.158225</td>\n",
       "    </tr>\n",
       "    <tr>\n",
       "      <th>587</th>\n",
       "      <td>1875</td>\n",
       "      <td>Wood/biomass</td>\n",
       "      <td>2.872</td>\n",
       "      <td>1865-1875</td>\n",
       "      <td>0.105</td>\n",
       "      <td>0.037947</td>\n",
       "    </tr>\n",
       "    <tr>\n",
       "      <th>589</th>\n",
       "      <td>1885</td>\n",
       "      <td>Wood/biomass</td>\n",
       "      <td>2.683</td>\n",
       "      <td>1875-1885</td>\n",
       "      <td>-0.189</td>\n",
       "      <td>-0.065808</td>\n",
       "    </tr>\n",
       "    <tr>\n",
       "      <th>591</th>\n",
       "      <td>1895</td>\n",
       "      <td>Wood/biomass</td>\n",
       "      <td>2.306</td>\n",
       "      <td>1885-1895</td>\n",
       "      <td>-0.377</td>\n",
       "      <td>-0.140514</td>\n",
       "    </tr>\n",
       "    <tr>\n",
       "      <th>593</th>\n",
       "      <td>1905</td>\n",
       "      <td>Wood/biomass</td>\n",
       "      <td>1.843</td>\n",
       "      <td>1895-1905</td>\n",
       "      <td>-0.463</td>\n",
       "      <td>-0.200781</td>\n",
       "    </tr>\n",
       "  </tbody>\n",
       "</table>\n",
       "</div>"
      ],
      "text/plain": [
       "     Year          Fuel  Value       span   diff  perc_diff\n",
       "581  1845  Wood/biomass  1.757  1835-1845    NaN        NaN\n",
       "583  1855  Wood/biomass  2.389  1845-1855  0.632   0.359704\n",
       "585  1865  Wood/biomass  2.767  1855-1865  0.378   0.158225\n",
       "587  1875  Wood/biomass  2.872  1865-1875  0.105   0.037947\n",
       "589  1885  Wood/biomass  2.683  1875-1885 -0.189  -0.065808\n",
       "591  1895  Wood/biomass  2.306  1885-1895 -0.377  -0.140514\n",
       "593  1905  Wood/biomass  1.843  1895-1905 -0.463  -0.200781"
      ]
     },
     "execution_count": 34,
     "metadata": {},
     "output_type": "execute_result"
    }
   ],
   "source": [
    "df_rev[df_rev['Fuel'] == 'Wood/biomass']"
   ]
  },
  {
   "cell_type": "markdown",
   "metadata": {},
   "source": [
    "You'll notice in in the dataframe, for the span 1835-1845, the difference is NaN (since there is no value to subtract from). We can drop all rows with a NaN:"
   ]
  },
  {
   "cell_type": "code",
   "execution_count": 35,
   "metadata": {},
   "outputs": [],
   "source": [
    "df_rev = df_rev.dropna()"
   ]
  },
  {
   "cell_type": "markdown",
   "metadata": {},
   "source": [
    "## Bar plot of absolute change in fuel consumption"
   ]
  },
  {
   "cell_type": "code",
   "execution_count": 36,
   "metadata": {},
   "outputs": [
    {
     "data": {
      "image/png": "[encoded data removed]",
      "text/plain": [
       "<Figure size 720x403.2 with 1 Axes>"
      ]
     },
     "metadata": {},
     "output_type": "display_data"
    }
   ],
   "source": [
    "# create new figure, with dimensions of width = 8.2 inches and height = 4.4 inches\n",
    "fig, ax = plt.subplots(figsize = (10,5.6))\n",
    "\n",
    "# create line plot with specified line colors\n",
    "p = sns.barplot(data = df_rev, x = \"span\", y = \"diff\", hue = \"Fuel\",\n",
    "                 palette = {\"Petroleum\": \"orange\",\n",
    "                            \"Natural Gas\": \"red\",\n",
    "                            \"Coal\": \"black\",\n",
    "                            \"Nuclear\": \"seagreen\",\n",
    "                            \"Hydropower\": \"steelblue\",\n",
    "                            \"Wood/biomass\": \"brown\",\n",
    "                            \"Other Renewables\": \"skyblue\"});\n",
    "\n",
    "# set the title of the plot, as well as the font size and font weight\n",
    "ax.set_title('Change in US Fuel Consumption by Source (1835-1905)', y = 1.04, fontsize = 20, fontweight='bold', loc='left');\n",
    "\n",
    "# make the x-axis and y-axis labels blank\n",
    "ax.set_xlabel('');\n",
    "ax.set_ylabel('');\n",
    "\n",
    "# manually add a subtitle below the title\n",
    "ax.text(-0.5, max(df_rev['diff'])*1.05, 'Quadrillion British Thermal Units', horizontalalignment='left', fontsize = 15);\n",
    "\n",
    "# remove vertical (x-axis) grid lines\n",
    "ax.xaxis.grid(which=\"major\", color='r', linestyle='-', linewidth=0);\n",
    "\n",
    "# keep horizontal (y-axis) grid lines, but make the color grey and width 0.3\n",
    "ax.yaxis.grid(which=\"major\", color='grey', linestyle='-', linewidth=0.3);\n",
    "\n",
    "# remove the borders of the plot\n",
    "ax.spines['right'].set_visible(False)\n",
    "ax.spines['top'].set_visible(False)\n",
    "ax.spines['bottom'].set_visible(False)\n",
    "ax.spines['left'].set_visible(False)\n",
    "\n",
    "# move the legend to the outside of the plot (right) and remove the background color of the legend\n",
    "ax.legend(loc='center left', bbox_to_anchor=(1, 0.5), frameon=False);\n",
    "\n",
    "# add footnote on the bottom right of the plot\n",
    "plt.figtext(0.9, 0, 'Plot created by Kelly Sanders on September 9, 2019', horizontalalignment='right', fontstyle='italic');"
   ]
  },
  {
   "cell_type": "markdown",
   "metadata": {},
   "source": [
    "### Save plot as image file"
   ]
  },
  {
   "cell_type": "code",
   "execution_count": 37,
   "metadata": {},
   "outputs": [],
   "source": [
    "fig.savefig(\"Figure_Absolute-Change-in-Fuel-Consumption_KTSanders.png\", dpi = 600, bbox_inches='tight')"
   ]
  },
  {
   "cell_type": "markdown",
   "metadata": {},
   "source": [
    "## Bar plot of percent change in fuel consumption"
   ]
  },
  {
   "cell_type": "code",
   "execution_count": 38,
   "metadata": {},
   "outputs": [
    {
     "data": {
      "image/png": "[encoded data removed]",
      "text/plain": [
       "<Figure size 720x403.2 with 1 Axes>"
      ]
     },
     "metadata": {},
     "output_type": "display_data"
    }
   ],
   "source": [
    "# create new figure, with dimensions of width = 8.2 inches and height = 4.4 inches\n",
    "fig, ax = plt.subplots(figsize = (10,5.6))\n",
    "\n",
    "# create line plot with specified line colors\n",
    "p = sns.barplot(data = df_rev, x = \"span\", y = \"perc_diff\", hue = \"Fuel\",\n",
    "                 palette = {\"Petroleum\": \"orange\",\n",
    "                            \"Natural Gas\": \"red\",\n",
    "                            \"Coal\": \"black\",\n",
    "                            \"Nuclear\": \"seagreen\",\n",
    "                            \"Hydropower\": \"steelblue\",\n",
    "                            \"Wood/biomass\": \"brown\",\n",
    "                            \"Other Renewables\": \"skyblue\"});\n",
    "\n",
    "# set the title of the plot, as well as the font size and font weight\n",
    "ax.set_title('Percent Change in US Fuel Consumption by Source (1835-1905)', y = 1, fontsize = 20, fontweight='bold', loc='left');\n",
    "\n",
    "# make the x-axis and y-axis labels blank\n",
    "ax.set_xlabel('');\n",
    "ax.set_ylabel('');\n",
    "\n",
    "# set y tick labels as percentage\n",
    "vals = ax.get_yticks()\n",
    "ax.set_yticklabels(['{:,.0%}'.format(x) for x in vals])\n",
    "\n",
    "# remove vertical (x-axis) grid lines\n",
    "ax.xaxis.grid(which=\"major\", color='r', linestyle='-', linewidth=0);\n",
    "\n",
    "# keep horizontal (y-axis) grid lines, but make the color grey and width 0.3\n",
    "ax.yaxis.grid(which=\"major\", color='grey', linestyle='-', linewidth=0.3);\n",
    "\n",
    "# remove the borders of the plot\n",
    "ax.spines['right'].set_visible(False)\n",
    "ax.spines['top'].set_visible(False)\n",
    "ax.spines['bottom'].set_visible(False)\n",
    "ax.spines['left'].set_visible(False)\n",
    "\n",
    "# move the legend to the outside of the plot (right) and remove the background color of the legend\n",
    "ax.legend(loc='center left', bbox_to_anchor=(1, 0.5), frameon=False);\n",
    "\n",
    "# add footnote on the bottom right of the plot\n",
    "plt.figtext(0.9, 0, 'Plot created by Kelly Sanders on September 9, 2019', horizontalalignment='right', fontstyle='italic');"
   ]
  },
  {
   "cell_type": "markdown",
   "metadata": {},
   "source": [
    "### Save plot as image file"
   ]
  },
  {
   "cell_type": "code",
   "execution_count": 39,
   "metadata": {},
   "outputs": [],
   "source": [
    "fig.savefig(\"Figure_Rate-of-Change-in-Fuel-Consumption_KTSanders.png\", dpi = 600, bbox_inches='tight')"
   ]
  }
 ],
 "metadata": {
  "kernelspec": {
   "display_name": "Python 3",
   "language": "python",
   "name": "python3"
  },
  "language_info": {
   "codemirror_mode": {
    "name": "ipython",
    "version": 3
   },
   "file_extension": ".py",
   "mimetype": "text/x-python",
   "name": "python",
   "nbconvert_exporter": "python",
   "pygments_lexer": "ipython3",
   "version": "3.6.7"
  }
 },
 "nbformat": 4,
 "nbformat_minor": 2
}
